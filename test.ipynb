{
 "cells": [
  {
   "cell_type": "markdown",
   "metadata": {},
   "source": [
    "# Ajout des données Eco2mix à la BDD"
   ]
  },
  {
   "cell_type": "code",
   "execution_count": 2,
   "metadata": {},
   "outputs": [],
   "source": [
    "import pandas as pd\n",
    "import json\n",
    "import os\n",
    "from tqdm.notebook import tqdm\n",
    "import numpy as np"
   ]
  },
  {
   "cell_type": "markdown",
   "metadata": {},
   "source": [
    "Dates : 2015-01-01 -> 2025-03-06"
   ]
  },
  {
   "cell_type": "code",
   "execution_count": 3,
   "metadata": {},
   "outputs": [],
   "source": [
    "data_dir = r'C:\\Users\\Raphaël Thireau\\OneDrive - versoenergy\\Documents\\datapipeline\\process\\data\\ODRE\\Eco2mix\\FR'"
   ]
  },
  {
   "cell_type": "code",
   "execution_count": null,
   "metadata": {},
   "outputs": [
    {
     "data": {
      "application/vnd.jupyter.widget-view+json": {
       "model_id": "5162d490cb1f4e79ab9bc8ef7fa4c92b",
       "version_major": 2,
       "version_minor": 0
      },
      "text/plain": [
       "  0%|          | 0/1 [00:00<?, ?it/s]"
      ]
     },
     "metadata": {},
     "output_type": "display_data"
    }
   ],
   "source": [
    "for date in tqdm(pd.date_range(start='2024-03-22', end='2024-03-22', freq='D', inclusive='both').date):\n",
    "    for data_type in ['def', 'cons', 'tr']: \n",
    "        file = os.path.join(data_dir, f'{date.strftime(format='%Y%m%d')}_ODRE_Eco2mix-{data_type}_FR.json')\n",
    "        if os.path.exists(file):\n",
    "            break\n",
    "    with open(file, 'r') as f:\n",
    "        data = json.load(f)\n",
    "    df = pd.DataFrame(data['results'])\n",
    "    df.date_heure = pd.to_datetime(df.date_heure)\n",
    "\n",
    "    # if data['total_count'] != 96:\n",
    "    #     print(f'File for {date.strftime(format='%Y%m%d')} has a total_count of {data[\"total_count\"]}')\n",
    "    # if len(data['results']) != 96:\n",
    "    #     print(f'File for {date.strftime(format='%Y%m%d')} has {len(data[\"results\"])} results')\n",
    "    # start = pd.Timestamp(date).tz_localize('Europe/Paris').tz_convert('UTC')\n",
    "    # end = pd.Timestamp(date + pd.Timedelta(days=1)).tz_localize('Europe/Paris').tz_convert('UTC')\n",
    "    # time_range = pd.date_range(start=start, end=end, freq='15min', inclusive='left')\n",
    "    # if not(np.array_equal(time_range.values, pd.to_datetime(df.date_heure).values)):\n",
    "    #     print(date)\n",
    "\n",
    "    # Remove duplicates\n",
    "    df = df[['date_heure', 'consommation', 'eolien', 'solaire']].rename(columns={'date_heure' : 'start'}).groupby('date_heure').mean().tz_localize(None)\n",
    "    # Fill in values for fields not at quarter-hour granularity (the 30min mean should stay the same)\n",
    "    df.fillna(df.resample('30min').transform('mean'), inplace=True)\n",
    "    # Add missing timestamps for the Summer to Winter time change\n",
    "    df = df.resample('15min').asfreq()\n",
    "\n",
    "    for col, col_name_in_BDD in zip(['eolien', 'solaire'], ['WIND', 'SOLAR']):\n",
    "        part_df = df[[col]]\n",
    "        # Fill missing values with linear interpolation and add a flag for missing values\n",
    "        missing_mask = part_df.col.isna()\n",
    "        part_df.loc[missing_mask, 'flag'] = 'Interpolated'\n",
    "        part_df.loc[~missing_mask, 'flag'] = 'Unchanged'\n",
    "        part_df.interpolate(method='time', inplace=True)\n",
    "\n",
    "    # if df.resample('15min').asfreq().isna().all(axis=1).any():\n",
    "    #     print(f'File for {date.strftime(format='%Y%m%d')} has missing data')\n",
    "\n"
   ]
  }
 ],
 "metadata": {
  "kernelspec": {
   "display_name": "venv_pipeline",
   "language": "python",
   "name": "python3"
  },
  "language_info": {
   "codemirror_mode": {
    "name": "ipython",
    "version": 3
   },
   "file_extension": ".py",
   "mimetype": "text/x-python",
   "name": "python",
   "nbconvert_exporter": "python",
   "pygments_lexer": "ipython3",
   "version": "3.13.0"
  }
 },
 "nbformat": 4,
 "nbformat_minor": 2
}
