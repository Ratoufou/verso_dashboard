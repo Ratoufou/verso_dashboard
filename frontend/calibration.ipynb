{
 "cells": [
  {
   "cell_type": "code",
   "execution_count": 5,
   "id": "f4ba13e3-936f-4dcd-9b48-869f6dbc71f8",
   "metadata": {},
   "outputs": [],
   "source": [
    "from vercast.pfc import *\n",
    "from vercast.middle_term import build_regressors\n",
    "import pandas as pd\n",
    "import psycopg2\n",
    "import plotly.graph_objects as go\n",
    "from collect_transform_data import execute_query"
   ]
  },
  {
   "cell_type": "markdown",
   "id": "50afc8c8-f992-48c7-bd0d-c682cd81a5ec",
   "metadata": {},
   "source": [
    "# 1. Import data"
   ]
  },
  {
   "cell_type": "markdown",
   "id": "732abd58-14d7-400a-8b21-d4d831d80561",
   "metadata": {},
   "source": [
    "## 1.1 Queries"
   ]
  },
  {
   "cell_type": "code",
   "execution_count": 6,
   "id": "79d3d071-71d0-43d4-b13a-c49e9d35a841",
   "metadata": {},
   "outputs": [],
   "source": [
    "years = (2017, 2018, 2019)"
   ]
  },
  {
   "cell_type": "code",
   "execution_count": 10,
   "id": "223e066e-eefa-4d1c-8551-e575a3c382d8",
   "metadata": {},
   "outputs": [],
   "source": [
    "query_spot = f\"\"\"\n",
    "SELECT\n",
    "    delivery_start AS timestamp,\n",
    "    price AS spot_price\n",
    "FROM elec_day_ahead_market\n",
    "WHERE tenor = 'PT1H' \n",
    "AND country = 'FR'\n",
    "AND EXTRACT(YEAR FROM delivery_start) IN {years} --EXTRACT(YEAR FROM (delivery_start AT TIME ZONE 'UTC' AT TIME ZONE 'CET')) IN {years}\n",
    "ORDER BY timestamp;\n",
    "\"\"\""
   ]
  },
  {
   "cell_type": "code",
   "execution_count": 11,
   "id": "1da51d76-2942-475f-806b-c520249a01f6",
   "metadata": {},
   "outputs": [],
   "source": [
    "query_load = f\"\"\"\n",
    "SELECT\n",
    "    date_trunc('hour', cons_start) AS timestamp,\n",
    "    AVG(quantity) AS load\n",
    "FROM consumption\n",
    "WHERE source = 'RTE' \n",
    "AND country = 'FR'\n",
    "AND curve_type = 'REALISED'\n",
    "AND EXTRACT(YEAR FROM cons_start) IN {years} --EXTRACT(YEAR FROM (cons_start AT TIME ZONE 'UTC' AT TIME ZONE 'CET')) IN {years}\n",
    "GROUP BY timestamp\n",
    "ORDER BY timestamp;\n",
    "\"\"\""
   ]
  },
  {
   "cell_type": "code",
   "execution_count": 12,
   "id": "f4b98e09-3cbb-4fc4-ac6b-0fc9191a2c04",
   "metadata": {},
   "outputs": [],
   "source": [
    "query_pv = f\"\"\"\n",
    "SELECT\n",
    "    prod_start AS timestamp,\n",
    "    quantity AS pv\n",
    "FROM production_per_type\n",
    "WHERE tenor = 'PT1H' \n",
    "AND country = 'FR'\n",
    "AND EXTRACT(YEAR FROM prod_start) IN {years} --EXTRACT(YEAR FROM (prod_start AT TIME ZONE 'UTC' AT TIME ZONE 'CET')) IN {years}\n",
    "AND production_type = 'SOLAR'\n",
    "ORDER BY timestamp;\n",
    "\"\"\""
   ]
  },
  {
   "cell_type": "code",
   "execution_count": 13,
   "id": "dc11efcc-316d-406b-a165-b57264672651",
   "metadata": {},
   "outputs": [],
   "source": [
    "query_pv_cf = f\"\"\"\n",
    "SELECT \n",
    "    p.prod_start AS timestamp,\n",
    "    pv / pv_capa AS pv_cf\n",
    "FROM (\n",
    "    SELECT \n",
    "        prod_start, \n",
    "        prod_end, \n",
    "        quantity AS pv\n",
    "    FROM production_per_type \n",
    "    WHERE tenor = 'PT1H' \n",
    "    AND country = 'FR' \n",
    "    AND production_type = 'SOLAR'\n",
    "    ) AS p \n",
    "JOIN (\n",
    "    SELECT \n",
    "        capa_start, \n",
    "        capa_end, \n",
    "        quantity AS pv_capa \n",
    "    FROM installed_capacities \n",
    "    WHERE capacities_type = 'SOLAR' \n",
    "    AND country = 'FR'\n",
    "    ) AS c\n",
    "ON c.capa_start <= p.prod_start \n",
    "AND c.capa_end >= p.prod_end\n",
    "WHERE EXTRACT(YEAR FROM p.prod_start) IN {years} --EXTRACT(YEAR FROM (p.prod_start AT TIME ZONE 'UTC' AT TIME ZONE 'CET')) IN {years}\n",
    "ORDER BY timestamp;\n",
    "\"\"\""
   ]
  },
  {
   "cell_type": "code",
   "execution_count": 14,
   "id": "b706183c-4580-418c-9a8d-bcc7fa163d95",
   "metadata": {},
   "outputs": [],
   "source": [
    "query_wind = f\"\"\"\n",
    "SELECT\n",
    "    prod_start AS timestamp,\n",
    "    SUM(quantity) AS wind\n",
    "FROM production_per_type\n",
    "WHERE tenor = 'PT1H' \n",
    "AND country = 'FR'\n",
    "AND EXTRACT(YEAR FROM prod_start) IN {years} --EXTRACT(YEAR FROM (prod_start AT TIME ZONE 'UTC' AT TIME ZONE 'CET')) IN {years}\n",
    "AND production_type IN ('WIND_OFFSHORE', 'WIND_ONSHORE')\n",
    "GROUP BY timestamp\n",
    "ORDER BY timestamp;\n",
    "\"\"\""
   ]
  },
  {
   "cell_type": "code",
   "execution_count": 18,
   "id": "4b879aa8-a1c6-4062-98ce-a26c94ea95c3",
   "metadata": {},
   "outputs": [],
   "source": [
    "query_wind_cf = f\"\"\"\n",
    "SELECT \n",
    "    p.prod_start AS timestamp,\n",
    "    wind / wind_capa AS wind_cf\n",
    "FROM (\n",
    "    SELECT \n",
    "        prod_start, \n",
    "        prod_end, \n",
    "        SUM(quantity) AS wind\n",
    "    FROM production_per_type \n",
    "    WHERE tenor = 'PT1H' \n",
    "    AND country = 'FR' \n",
    "    AND production_type IN ('WIND_OFFSHORE', 'WIND_ONSHORE')\n",
    "    GROUP BY (prod_start, prod_end)\n",
    "    ) AS p \n",
    "JOIN (\n",
    "    SELECT \n",
    "        capa_start, \n",
    "        capa_end, \n",
    "        SUM(quantity) AS wind_capa \n",
    "    FROM installed_capacities \n",
    "    WHERE capacities_type IN ('WIND_OFFSHORE', 'WIND_ONSHORE')\n",
    "    AND country = 'FR'\n",
    "    GROUP BY (capa_start, capa_end)\n",
    "    ) AS c\n",
    "ON c.capa_start <= p.prod_start \n",
    "AND c.capa_end >= p.prod_end\n",
    "WHERE EXTRACT(YEAR FROM p.prod_start) IN {years} --EXTRACT(YEAR FROM (p.prod_start AT TIME ZONE 'UTC' AT TIME ZONE 'CET')) IN {years}\n",
    "ORDER BY timestamp;\n",
    "\"\"\""
   ]
  },
  {
   "cell_type": "code",
   "execution_count": 16,
   "id": "ee7afaec-3bdc-4761-8fe6-27247793d6f6",
   "metadata": {},
   "outputs": [],
   "source": [
    "query_temp = f\"\"\"\n",
    "SELECT\n",
    "    date_trunc('hour', temp_start) AS timestamp,\n",
    "    AVG(tn) AS tn,\n",
    "    AVG(tr) AS tr, \n",
    "    AVG(trs) AS trs, \n",
    "    AVG(delta_t) as delta_t, \n",
    "    AVG(delta_ts) AS delta_ts\n",
    "FROM temperature\n",
    "WHERE tenor = 'PT30M'\n",
    "AND country = 'FR'\n",
    "AND source = 'ENEDIS'\n",
    "AND EXTRACT(YEAR FROM temp_start) IN {years} --EXTRACT(YEAR FROM (temp_start AT TIME ZONE 'UTC' AT TIME ZONE 'CET')) IN {years}\n",
    "GROUP BY timestamp\n",
    "ORDER BY timestamp;\n",
    "\"\"\""
   ]
  },
  {
   "cell_type": "markdown",
   "id": "0080b21a-d485-4867-b888-c2ce25b6d7dd",
   "metadata": {},
   "source": [
    "## 1.2 Execute queries"
   ]
  },
  {
   "cell_type": "code",
   "execution_count": 19,
   "id": "58f25160-bff0-486a-95ba-64b1daf0d532",
   "metadata": {},
   "outputs": [],
   "source": [
    "spot_train = execute_query(query_spot, timestamp=True).astype(float)\n",
    "temp_train = execute_query(query_temp, timestamp=True).astype(float).round(2)\n",
    "load_train = execute_query(query_load, timestamp=True).astype(float).round(2)\n",
    "pv_train = execute_query(query_pv, timestamp=True).astype(float).resample('h').ffill()\n",
    "pv_cf_train = execute_query(query_pv_cf, timestamp=True).astype(float).resample('h').ffill()\n",
    "eol_train = execute_query(query_wind, timestamp=True).astype(float).resample('h').ffill()\n",
    "eol_cf_train = execute_query(query_wind_cf, timestamp=True).astype(float).resample('h').ffill()"
   ]
  },
  {
   "cell_type": "code",
   "execution_count": 21,
   "id": "eb294482-cae9-4631-8d4e-62c66e99eb5a",
   "metadata": {},
   "outputs": [],
   "source": [
    "normalized_load_train = load_train.groupby(load_train.index.year).transform(lambda x: x/x.sum())"
   ]
  },
  {
   "cell_type": "code",
   "execution_count": 22,
   "id": "f83c9758-ad41-4b9a-ab89-ab9b921eadf5",
   "metadata": {},
   "outputs": [],
   "source": [
    "regressors = build_regressors(\n",
    "    timestamp=spot_train.index,\n",
    "    deltaTS=temp_train['delta_ts'],\n",
    "    load=load_train,\n",
    "    pv=pv_train,\n",
    "    eol=eol_train)\n",
    "\n",
    "normalized_regressors = build_regressors(\n",
    "    timestamp=spot_train.index,\n",
    "    deltaTS=temp_train['delta_ts'],\n",
    "    load=normalized_load_train,\n",
    "    pv_cf=pv_cf_train,\n",
    "    eol_cf=eol_cf_train,\n",
    "    days=False, months=False, hours=False)"
   ]
  },
  {
   "cell_type": "markdown",
   "id": "2924646a-5c1f-4c03-92b4-73107a51379c",
   "metadata": {},
   "source": [
    "# 2. Calibration"
   ]
  },
  {
   "cell_type": "code",
   "execution_count": 23,
   "id": "e11c9b04-42fc-4bb9-855f-91f5c61c49a9",
   "metadata": {},
   "outputs": [],
   "source": [
    "inputs_cal = {}\n",
    "inputs_cal[\"eval_years\"] = [2026]\n",
    "inputs_cal['name'] = 'v1'\n",
    "inputs_cal['residual_model_config'] = {'n_states' : 80, 'isweekend' : False}\n",
    "inputs_cal['regressor_model_config'] = {'n_states' : 20, 'isweekend' : True}\n",
    "inputs_cal['nscenario'] = 10\n",
    "inputs_cal['output_path'] = os.path.join(\"/frontend/PFC/outputs\")\n",
    "inputs_cal['save_files'] = True\n",
    "inputs_cal['sampling_period'] = 'W'"
   ]
  },
  {
   "cell_type": "code",
   "execution_count": 24,
   "id": "ccc1a4e5-2fd9-4641-8916-b46f7bbd9399",
   "metadata": {},
   "outputs": [],
   "source": [
    "calibrate(spot=spot_train,\n",
    "          regressors=regressors,\n",
    "          normalized_regressors=normalized_regressors,\n",
    "          **inputs_cal)"
   ]
  },
  {
   "cell_type": "markdown",
   "id": "6436650b-3858-46b4-b57f-66df4b5ce3bd",
   "metadata": {},
   "source": [
    "# 3. Normalized PFC"
   ]
  },
  {
   "cell_type": "code",
   "execution_count": 26,
   "id": "d1505542-fd50-4e67-99db-1e7857119198",
   "metadata": {},
   "outputs": [],
   "source": [
    "inputs_gen = {}\n",
    "inputs_gen['calibration_path'] = '/frontend/PFC/outputs/2025-02-06_v1'\n",
    "inputs_gen['generation_id'] = 'BP23'\n",
    "inputs_gen['scenario_file'] = '/frontend/vercast/Scénarios variables explicatives.xlsx'\n",
    "inputs_gen[\"pv_scenario_id\"] = \"RTE - référence - BP23\"\n",
    "inputs_gen[\"eol_scenario_id\"] = \"RTE - référence - BP23\"\n",
    "inputs_gen[\"load_scenario_id\"] = \"RTE - référence - BP23\"\n",
    "inputs_gen[\"sampling_period\"] = 'W'"
   ]
  },
  {
   "cell_type": "code",
   "execution_count": 27,
   "id": "01aa4424-1a8e-4236-9e15-3bb8ecc01779",
   "metadata": {},
   "outputs": [
    {
     "name": "stdout",
     "output_type": "stream",
     "text": [
      "[[1.000e+00 4.710e+08 3.005e+04 3.195e+04]\n",
      " [1.000e+00 4.710e+08 3.005e+04 3.195e+04]\n",
      " [1.000e+00 4.710e+08 3.005e+04 3.195e+04]\n",
      " ...\n",
      " [1.000e+00 4.710e+08 3.005e+04 3.195e+04]\n",
      " [1.000e+00 4.710e+08 3.005e+04 3.195e+04]\n",
      " [1.000e+00 4.710e+08 3.005e+04 3.195e+04]]\n"
     ]
    }
   ],
   "source": [
    "norm_PFC = generate_normalized_pfc(**inputs_gen, save_files=True)"
   ]
  },
  {
   "cell_type": "code",
   "execution_count": 28,
   "id": "d78c460b-386c-4e01-9d36-81aa9b87bc52",
   "metadata": {},
   "outputs": [
    {
     "data": {
      "text/html": [
       "<div>\n",
       "<style scoped>\n",
       "    .dataframe tbody tr th:only-of-type {\n",
       "        vertical-align: middle;\n",
       "    }\n",
       "\n",
       "    .dataframe tbody tr th {\n",
       "        vertical-align: top;\n",
       "    }\n",
       "\n",
       "    .dataframe thead th {\n",
       "        text-align: right;\n",
       "    }\n",
       "</style>\n",
       "<table border=\"1\" class=\"dataframe\">\n",
       "  <thead>\n",
       "    <tr style=\"text-align: right;\">\n",
       "      <th></th>\n",
       "      <th>0</th>\n",
       "      <th>1</th>\n",
       "      <th>2</th>\n",
       "      <th>3</th>\n",
       "      <th>4</th>\n",
       "      <th>5</th>\n",
       "      <th>6</th>\n",
       "      <th>7</th>\n",
       "      <th>8</th>\n",
       "      <th>9</th>\n",
       "    </tr>\n",
       "  </thead>\n",
       "  <tbody>\n",
       "    <tr>\n",
       "      <th>2026-01-01 00:00:00</th>\n",
       "      <td>1.068858</td>\n",
       "      <td>1.051883</td>\n",
       "      <td>1.184184</td>\n",
       "      <td>1.079966</td>\n",
       "      <td>1.107931</td>\n",
       "      <td>1.004440</td>\n",
       "      <td>1.161718</td>\n",
       "      <td>1.355885</td>\n",
       "      <td>1.228348</td>\n",
       "      <td>1.176111</td>\n",
       "    </tr>\n",
       "    <tr>\n",
       "      <th>2026-01-01 01:00:00</th>\n",
       "      <td>0.980482</td>\n",
       "      <td>1.075710</td>\n",
       "      <td>1.211008</td>\n",
       "      <td>1.104429</td>\n",
       "      <td>1.133028</td>\n",
       "      <td>1.027192</td>\n",
       "      <td>1.188033</td>\n",
       "      <td>1.386598</td>\n",
       "      <td>1.126785</td>\n",
       "      <td>1.202752</td>\n",
       "    </tr>\n",
       "    <tr>\n",
       "      <th>2026-01-01 02:00:00</th>\n",
       "      <td>0.945926</td>\n",
       "      <td>1.029137</td>\n",
       "      <td>1.158578</td>\n",
       "      <td>1.056613</td>\n",
       "      <td>1.083974</td>\n",
       "      <td>0.982720</td>\n",
       "      <td>1.136598</td>\n",
       "      <td>1.326566</td>\n",
       "      <td>1.087073</td>\n",
       "      <td>1.150679</td>\n",
       "    </tr>\n",
       "    <tr>\n",
       "      <th>2026-01-01 03:00:00</th>\n",
       "      <td>0.949597</td>\n",
       "      <td>0.918518</td>\n",
       "      <td>1.171122</td>\n",
       "      <td>1.068053</td>\n",
       "      <td>0.967461</td>\n",
       "      <td>0.993360</td>\n",
       "      <td>1.032096</td>\n",
       "      <td>1.204598</td>\n",
       "      <td>1.072611</td>\n",
       "      <td>1.181024</td>\n",
       "    </tr>\n",
       "    <tr>\n",
       "      <th>2026-01-01 04:00:00</th>\n",
       "      <td>0.965500</td>\n",
       "      <td>0.926929</td>\n",
       "      <td>1.222437</td>\n",
       "      <td>1.108203</td>\n",
       "      <td>0.976319</td>\n",
       "      <td>1.030702</td>\n",
       "      <td>1.049381</td>\n",
       "      <td>1.224771</td>\n",
       "      <td>1.260465</td>\n",
       "      <td>1.240084</td>\n",
       "    </tr>\n",
       "    <tr>\n",
       "      <th>...</th>\n",
       "      <td>...</td>\n",
       "      <td>...</td>\n",
       "      <td>...</td>\n",
       "      <td>...</td>\n",
       "      <td>...</td>\n",
       "      <td>...</td>\n",
       "      <td>...</td>\n",
       "      <td>...</td>\n",
       "      <td>...</td>\n",
       "      <td>...</td>\n",
       "    </tr>\n",
       "    <tr>\n",
       "      <th>2026-12-31 19:00:00</th>\n",
       "      <td>1.935277</td>\n",
       "      <td>0.813226</td>\n",
       "      <td>1.198755</td>\n",
       "      <td>0.125913</td>\n",
       "      <td>0.538269</td>\n",
       "      <td>0.628101</td>\n",
       "      <td>1.012670</td>\n",
       "      <td>0.897612</td>\n",
       "      <td>0.539141</td>\n",
       "      <td>1.313521</td>\n",
       "    </tr>\n",
       "    <tr>\n",
       "      <th>2026-12-31 20:00:00</th>\n",
       "      <td>1.774297</td>\n",
       "      <td>0.795771</td>\n",
       "      <td>1.062199</td>\n",
       "      <td>0.029537</td>\n",
       "      <td>0.480841</td>\n",
       "      <td>0.650772</td>\n",
       "      <td>0.934941</td>\n",
       "      <td>0.583837</td>\n",
       "      <td>0.263973</td>\n",
       "      <td>1.377526</td>\n",
       "    </tr>\n",
       "    <tr>\n",
       "      <th>2026-12-31 21:00:00</th>\n",
       "      <td>1.713793</td>\n",
       "      <td>0.798350</td>\n",
       "      <td>1.153238</td>\n",
       "      <td>0.163164</td>\n",
       "      <td>0.515738</td>\n",
       "      <td>0.688420</td>\n",
       "      <td>0.935007</td>\n",
       "      <td>0.416110</td>\n",
       "      <td>0.239225</td>\n",
       "      <td>1.357996</td>\n",
       "    </tr>\n",
       "    <tr>\n",
       "      <th>2026-12-31 22:00:00</th>\n",
       "      <td>1.604347</td>\n",
       "      <td>0.809017</td>\n",
       "      <td>1.114887</td>\n",
       "      <td>0.207420</td>\n",
       "      <td>0.288618</td>\n",
       "      <td>0.814090</td>\n",
       "      <td>0.901502</td>\n",
       "      <td>0.542553</td>\n",
       "      <td>0.103337</td>\n",
       "      <td>1.315798</td>\n",
       "    </tr>\n",
       "    <tr>\n",
       "      <th>2026-12-31 23:00:00</th>\n",
       "      <td>1.555099</td>\n",
       "      <td>0.348773</td>\n",
       "      <td>1.271035</td>\n",
       "      <td>0.140706</td>\n",
       "      <td>0.310914</td>\n",
       "      <td>0.563009</td>\n",
       "      <td>0.817521</td>\n",
       "      <td>0.604722</td>\n",
       "      <td>-0.045095</td>\n",
       "      <td>1.259140</td>\n",
       "    </tr>\n",
       "  </tbody>\n",
       "</table>\n",
       "<p>8760 rows × 10 columns</p>\n",
       "</div>"
      ],
      "text/plain": [
       "                            0         1         2         3         4  \\\n",
       "2026-01-01 00:00:00  1.068858  1.051883  1.184184  1.079966  1.107931   \n",
       "2026-01-01 01:00:00  0.980482  1.075710  1.211008  1.104429  1.133028   \n",
       "2026-01-01 02:00:00  0.945926  1.029137  1.158578  1.056613  1.083974   \n",
       "2026-01-01 03:00:00  0.949597  0.918518  1.171122  1.068053  0.967461   \n",
       "2026-01-01 04:00:00  0.965500  0.926929  1.222437  1.108203  0.976319   \n",
       "...                       ...       ...       ...       ...       ...   \n",
       "2026-12-31 19:00:00  1.935277  0.813226  1.198755  0.125913  0.538269   \n",
       "2026-12-31 20:00:00  1.774297  0.795771  1.062199  0.029537  0.480841   \n",
       "2026-12-31 21:00:00  1.713793  0.798350  1.153238  0.163164  0.515738   \n",
       "2026-12-31 22:00:00  1.604347  0.809017  1.114887  0.207420  0.288618   \n",
       "2026-12-31 23:00:00  1.555099  0.348773  1.271035  0.140706  0.310914   \n",
       "\n",
       "                            5         6         7         8         9  \n",
       "2026-01-01 00:00:00  1.004440  1.161718  1.355885  1.228348  1.176111  \n",
       "2026-01-01 01:00:00  1.027192  1.188033  1.386598  1.126785  1.202752  \n",
       "2026-01-01 02:00:00  0.982720  1.136598  1.326566  1.087073  1.150679  \n",
       "2026-01-01 03:00:00  0.993360  1.032096  1.204598  1.072611  1.181024  \n",
       "2026-01-01 04:00:00  1.030702  1.049381  1.224771  1.260465  1.240084  \n",
       "...                       ...       ...       ...       ...       ...  \n",
       "2026-12-31 19:00:00  0.628101  1.012670  0.897612  0.539141  1.313521  \n",
       "2026-12-31 20:00:00  0.650772  0.934941  0.583837  0.263973  1.377526  \n",
       "2026-12-31 21:00:00  0.688420  0.935007  0.416110  0.239225  1.357996  \n",
       "2026-12-31 22:00:00  0.814090  0.901502  0.542553  0.103337  1.315798  \n",
       "2026-12-31 23:00:00  0.563009  0.817521  0.604722 -0.045095  1.259140  \n",
       "\n",
       "[8760 rows x 10 columns]"
      ]
     },
     "execution_count": 28,
     "metadata": {},
     "output_type": "execute_result"
    }
   ],
   "source": [
    "norm_PFC"
   ]
  },
  {
   "cell_type": "markdown",
   "id": "e8987313-ef52-4f34-aac2-e672831e1048",
   "metadata": {},
   "source": [
    "# 4. Adjust PFC"
   ]
  },
  {
   "cell_type": "code",
   "execution_count": 47,
   "id": "71dfb33f-711e-4a30-abcb-ae13d07d5d5d",
   "metadata": {},
   "outputs": [],
   "source": [
    "inputs_adj = {}\n",
    "inputs_adj['historic_years'] = [2017, 2018, 2019]\n",
    "inputs_adj['adjustment_date'] = '2024-09-18'\n",
    "inputs_adj['eex_path'] = '/frontend/vercast/EEX'\n",
    "inputs_adj['calibration_path'] = '/frontend/PFC/outputs/2025-02-06_v1'\n",
    "inputs_adj['generation_id'] = 'BP23'\n",
    "inputs_adj['sampling_period'] = 'W'"
   ]
  },
  {
   "cell_type": "code",
   "execution_count": 48,
   "id": "64d817c2-378b-4963-bc72-d7acd2c4155b",
   "metadata": {},
   "outputs": [
    {
     "ename": "FileNotFoundError",
     "evalue": "[Errno 2] No such file or directory: '/frontend/PFC/outputs/2025-02-06_v1/BP23/normalized_pfc.csv'",
     "output_type": "error",
     "traceback": [
      "\u001b[0;31m---------------------------------------------------------------------------\u001b[0m",
      "\u001b[0;31mFileNotFoundError\u001b[0m                         Traceback (most recent call last)",
      "Cell \u001b[0;32mIn[48], line 1\u001b[0m\n\u001b[0;32m----> 1\u001b[0m adj_PFC \u001b[38;5;241m=\u001b[39m \u001b[43madjust_pfc\u001b[49m\u001b[43m(\u001b[49m\u001b[38;5;241;43m*\u001b[39;49m\u001b[38;5;241;43m*\u001b[39;49m\u001b[43minputs_adj\u001b[49m\u001b[43m,\u001b[49m\u001b[43m \u001b[49m\u001b[43msave_files\u001b[49m\u001b[38;5;241;43m=\u001b[39;49m\u001b[38;5;28;43;01mTrue\u001b[39;49;00m\u001b[43m)\u001b[49m\n",
      "File \u001b[0;32m/frontend/vercast/pfc.py:116\u001b[0m, in \u001b[0;36madjust_pfc\u001b[0;34m(eex_path, historic_years, adjustment_date, norm_PFC, calibration_path, generation_id, sampling_period, save_files)\u001b[0m\n\u001b[1;32m    114\u001b[0m         eval_years \u001b[38;5;241m=\u001b[39m json\u001b[38;5;241m.\u001b[39mload(f)[\u001b[38;5;124m'\u001b[39m\u001b[38;5;124meval_years\u001b[39m\u001b[38;5;124m'\u001b[39m]\n\u001b[1;32m    115\u001b[0m     generation_path \u001b[38;5;241m=\u001b[39m os\u001b[38;5;241m.\u001b[39mpath\u001b[38;5;241m.\u001b[39mjoin(calibration_path, generation_id)\n\u001b[0;32m--> 116\u001b[0m     norm_PFC \u001b[38;5;241m=\u001b[39m \u001b[43mpd\u001b[49m\u001b[38;5;241;43m.\u001b[39;49m\u001b[43mread_csv\u001b[49m\u001b[43m(\u001b[49m\u001b[43mos\u001b[49m\u001b[38;5;241;43m.\u001b[39;49m\u001b[43mpath\u001b[49m\u001b[38;5;241;43m.\u001b[39;49m\u001b[43mjoin\u001b[49m\u001b[43m(\u001b[49m\u001b[43mgeneration_path\u001b[49m\u001b[43m,\u001b[49m\u001b[43m \u001b[49m\u001b[38;5;124;43mf\u001b[39;49m\u001b[38;5;124;43m'\u001b[39;49m\u001b[38;5;124;43mnormalized_pfc.csv\u001b[39;49m\u001b[38;5;124;43m'\u001b[39;49m\u001b[43m)\u001b[49m\u001b[43m,\u001b[49m\u001b[43m \u001b[49m\u001b[43mindex_col\u001b[49m\u001b[38;5;241;43m=\u001b[39;49m\u001b[38;5;241;43m0\u001b[39;49m\u001b[43m,\u001b[49m\u001b[43m \u001b[49m\u001b[43mparse_dates\u001b[49m\u001b[38;5;241;43m=\u001b[39;49m\u001b[38;5;28;43;01mTrue\u001b[39;49;00m\u001b[43m)\u001b[49m\n\u001b[1;32m    117\u001b[0m \u001b[38;5;28;01melse\u001b[39;00m:\n\u001b[1;32m    118\u001b[0m     eval_years \u001b[38;5;241m=\u001b[39m \u001b[38;5;28msorted\u001b[39m(\u001b[38;5;28mlist\u001b[39m(norm_PFC\u001b[38;5;241m.\u001b[39mindex\u001b[38;5;241m.\u001b[39myear\u001b[38;5;241m.\u001b[39munique()))\n",
      "File \u001b[0;32m/usr/local/lib/python3.10/site-packages/pandas/io/parsers/readers.py:1026\u001b[0m, in \u001b[0;36mread_csv\u001b[0;34m(filepath_or_buffer, sep, delimiter, header, names, index_col, usecols, dtype, engine, converters, true_values, false_values, skipinitialspace, skiprows, skipfooter, nrows, na_values, keep_default_na, na_filter, verbose, skip_blank_lines, parse_dates, infer_datetime_format, keep_date_col, date_parser, date_format, dayfirst, cache_dates, iterator, chunksize, compression, thousands, decimal, lineterminator, quotechar, quoting, doublequote, escapechar, comment, encoding, encoding_errors, dialect, on_bad_lines, delim_whitespace, low_memory, memory_map, float_precision, storage_options, dtype_backend)\u001b[0m\n\u001b[1;32m   1013\u001b[0m kwds_defaults \u001b[38;5;241m=\u001b[39m _refine_defaults_read(\n\u001b[1;32m   1014\u001b[0m     dialect,\n\u001b[1;32m   1015\u001b[0m     delimiter,\n\u001b[0;32m   (...)\u001b[0m\n\u001b[1;32m   1022\u001b[0m     dtype_backend\u001b[38;5;241m=\u001b[39mdtype_backend,\n\u001b[1;32m   1023\u001b[0m )\n\u001b[1;32m   1024\u001b[0m kwds\u001b[38;5;241m.\u001b[39mupdate(kwds_defaults)\n\u001b[0;32m-> 1026\u001b[0m \u001b[38;5;28;01mreturn\u001b[39;00m \u001b[43m_read\u001b[49m\u001b[43m(\u001b[49m\u001b[43mfilepath_or_buffer\u001b[49m\u001b[43m,\u001b[49m\u001b[43m \u001b[49m\u001b[43mkwds\u001b[49m\u001b[43m)\u001b[49m\n",
      "File \u001b[0;32m/usr/local/lib/python3.10/site-packages/pandas/io/parsers/readers.py:620\u001b[0m, in \u001b[0;36m_read\u001b[0;34m(filepath_or_buffer, kwds)\u001b[0m\n\u001b[1;32m    617\u001b[0m _validate_names(kwds\u001b[38;5;241m.\u001b[39mget(\u001b[38;5;124m\"\u001b[39m\u001b[38;5;124mnames\u001b[39m\u001b[38;5;124m\"\u001b[39m, \u001b[38;5;28;01mNone\u001b[39;00m))\n\u001b[1;32m    619\u001b[0m \u001b[38;5;66;03m# Create the parser.\u001b[39;00m\n\u001b[0;32m--> 620\u001b[0m parser \u001b[38;5;241m=\u001b[39m \u001b[43mTextFileReader\u001b[49m\u001b[43m(\u001b[49m\u001b[43mfilepath_or_buffer\u001b[49m\u001b[43m,\u001b[49m\u001b[43m \u001b[49m\u001b[38;5;241;43m*\u001b[39;49m\u001b[38;5;241;43m*\u001b[39;49m\u001b[43mkwds\u001b[49m\u001b[43m)\u001b[49m\n\u001b[1;32m    622\u001b[0m \u001b[38;5;28;01mif\u001b[39;00m chunksize \u001b[38;5;129;01mor\u001b[39;00m iterator:\n\u001b[1;32m    623\u001b[0m     \u001b[38;5;28;01mreturn\u001b[39;00m parser\n",
      "File \u001b[0;32m/usr/local/lib/python3.10/site-packages/pandas/io/parsers/readers.py:1620\u001b[0m, in \u001b[0;36mTextFileReader.__init__\u001b[0;34m(self, f, engine, **kwds)\u001b[0m\n\u001b[1;32m   1617\u001b[0m     \u001b[38;5;28mself\u001b[39m\u001b[38;5;241m.\u001b[39moptions[\u001b[38;5;124m\"\u001b[39m\u001b[38;5;124mhas_index_names\u001b[39m\u001b[38;5;124m\"\u001b[39m] \u001b[38;5;241m=\u001b[39m kwds[\u001b[38;5;124m\"\u001b[39m\u001b[38;5;124mhas_index_names\u001b[39m\u001b[38;5;124m\"\u001b[39m]\n\u001b[1;32m   1619\u001b[0m \u001b[38;5;28mself\u001b[39m\u001b[38;5;241m.\u001b[39mhandles: IOHandles \u001b[38;5;241m|\u001b[39m \u001b[38;5;28;01mNone\u001b[39;00m \u001b[38;5;241m=\u001b[39m \u001b[38;5;28;01mNone\u001b[39;00m\n\u001b[0;32m-> 1620\u001b[0m \u001b[38;5;28mself\u001b[39m\u001b[38;5;241m.\u001b[39m_engine \u001b[38;5;241m=\u001b[39m \u001b[38;5;28;43mself\u001b[39;49m\u001b[38;5;241;43m.\u001b[39;49m\u001b[43m_make_engine\u001b[49m\u001b[43m(\u001b[49m\u001b[43mf\u001b[49m\u001b[43m,\u001b[49m\u001b[43m \u001b[49m\u001b[38;5;28;43mself\u001b[39;49m\u001b[38;5;241;43m.\u001b[39;49m\u001b[43mengine\u001b[49m\u001b[43m)\u001b[49m\n",
      "File \u001b[0;32m/usr/local/lib/python3.10/site-packages/pandas/io/parsers/readers.py:1880\u001b[0m, in \u001b[0;36mTextFileReader._make_engine\u001b[0;34m(self, f, engine)\u001b[0m\n\u001b[1;32m   1878\u001b[0m     \u001b[38;5;28;01mif\u001b[39;00m \u001b[38;5;124m\"\u001b[39m\u001b[38;5;124mb\u001b[39m\u001b[38;5;124m\"\u001b[39m \u001b[38;5;129;01mnot\u001b[39;00m \u001b[38;5;129;01min\u001b[39;00m mode:\n\u001b[1;32m   1879\u001b[0m         mode \u001b[38;5;241m+\u001b[39m\u001b[38;5;241m=\u001b[39m \u001b[38;5;124m\"\u001b[39m\u001b[38;5;124mb\u001b[39m\u001b[38;5;124m\"\u001b[39m\n\u001b[0;32m-> 1880\u001b[0m \u001b[38;5;28mself\u001b[39m\u001b[38;5;241m.\u001b[39mhandles \u001b[38;5;241m=\u001b[39m \u001b[43mget_handle\u001b[49m\u001b[43m(\u001b[49m\n\u001b[1;32m   1881\u001b[0m \u001b[43m    \u001b[49m\u001b[43mf\u001b[49m\u001b[43m,\u001b[49m\n\u001b[1;32m   1882\u001b[0m \u001b[43m    \u001b[49m\u001b[43mmode\u001b[49m\u001b[43m,\u001b[49m\n\u001b[1;32m   1883\u001b[0m \u001b[43m    \u001b[49m\u001b[43mencoding\u001b[49m\u001b[38;5;241;43m=\u001b[39;49m\u001b[38;5;28;43mself\u001b[39;49m\u001b[38;5;241;43m.\u001b[39;49m\u001b[43moptions\u001b[49m\u001b[38;5;241;43m.\u001b[39;49m\u001b[43mget\u001b[49m\u001b[43m(\u001b[49m\u001b[38;5;124;43m\"\u001b[39;49m\u001b[38;5;124;43mencoding\u001b[39;49m\u001b[38;5;124;43m\"\u001b[39;49m\u001b[43m,\u001b[49m\u001b[43m \u001b[49m\u001b[38;5;28;43;01mNone\u001b[39;49;00m\u001b[43m)\u001b[49m\u001b[43m,\u001b[49m\n\u001b[1;32m   1884\u001b[0m \u001b[43m    \u001b[49m\u001b[43mcompression\u001b[49m\u001b[38;5;241;43m=\u001b[39;49m\u001b[38;5;28;43mself\u001b[39;49m\u001b[38;5;241;43m.\u001b[39;49m\u001b[43moptions\u001b[49m\u001b[38;5;241;43m.\u001b[39;49m\u001b[43mget\u001b[49m\u001b[43m(\u001b[49m\u001b[38;5;124;43m\"\u001b[39;49m\u001b[38;5;124;43mcompression\u001b[39;49m\u001b[38;5;124;43m\"\u001b[39;49m\u001b[43m,\u001b[49m\u001b[43m \u001b[49m\u001b[38;5;28;43;01mNone\u001b[39;49;00m\u001b[43m)\u001b[49m\u001b[43m,\u001b[49m\n\u001b[1;32m   1885\u001b[0m \u001b[43m    \u001b[49m\u001b[43mmemory_map\u001b[49m\u001b[38;5;241;43m=\u001b[39;49m\u001b[38;5;28;43mself\u001b[39;49m\u001b[38;5;241;43m.\u001b[39;49m\u001b[43moptions\u001b[49m\u001b[38;5;241;43m.\u001b[39;49m\u001b[43mget\u001b[49m\u001b[43m(\u001b[49m\u001b[38;5;124;43m\"\u001b[39;49m\u001b[38;5;124;43mmemory_map\u001b[39;49m\u001b[38;5;124;43m\"\u001b[39;49m\u001b[43m,\u001b[49m\u001b[43m \u001b[49m\u001b[38;5;28;43;01mFalse\u001b[39;49;00m\u001b[43m)\u001b[49m\u001b[43m,\u001b[49m\n\u001b[1;32m   1886\u001b[0m \u001b[43m    \u001b[49m\u001b[43mis_text\u001b[49m\u001b[38;5;241;43m=\u001b[39;49m\u001b[43mis_text\u001b[49m\u001b[43m,\u001b[49m\n\u001b[1;32m   1887\u001b[0m \u001b[43m    \u001b[49m\u001b[43merrors\u001b[49m\u001b[38;5;241;43m=\u001b[39;49m\u001b[38;5;28;43mself\u001b[39;49m\u001b[38;5;241;43m.\u001b[39;49m\u001b[43moptions\u001b[49m\u001b[38;5;241;43m.\u001b[39;49m\u001b[43mget\u001b[49m\u001b[43m(\u001b[49m\u001b[38;5;124;43m\"\u001b[39;49m\u001b[38;5;124;43mencoding_errors\u001b[39;49m\u001b[38;5;124;43m\"\u001b[39;49m\u001b[43m,\u001b[49m\u001b[43m \u001b[49m\u001b[38;5;124;43m\"\u001b[39;49m\u001b[38;5;124;43mstrict\u001b[39;49m\u001b[38;5;124;43m\"\u001b[39;49m\u001b[43m)\u001b[49m\u001b[43m,\u001b[49m\n\u001b[1;32m   1888\u001b[0m \u001b[43m    \u001b[49m\u001b[43mstorage_options\u001b[49m\u001b[38;5;241;43m=\u001b[39;49m\u001b[38;5;28;43mself\u001b[39;49m\u001b[38;5;241;43m.\u001b[39;49m\u001b[43moptions\u001b[49m\u001b[38;5;241;43m.\u001b[39;49m\u001b[43mget\u001b[49m\u001b[43m(\u001b[49m\u001b[38;5;124;43m\"\u001b[39;49m\u001b[38;5;124;43mstorage_options\u001b[39;49m\u001b[38;5;124;43m\"\u001b[39;49m\u001b[43m,\u001b[49m\u001b[43m \u001b[49m\u001b[38;5;28;43;01mNone\u001b[39;49;00m\u001b[43m)\u001b[49m\u001b[43m,\u001b[49m\n\u001b[1;32m   1889\u001b[0m \u001b[43m\u001b[49m\u001b[43m)\u001b[49m\n\u001b[1;32m   1890\u001b[0m \u001b[38;5;28;01massert\u001b[39;00m \u001b[38;5;28mself\u001b[39m\u001b[38;5;241m.\u001b[39mhandles \u001b[38;5;129;01mis\u001b[39;00m \u001b[38;5;129;01mnot\u001b[39;00m \u001b[38;5;28;01mNone\u001b[39;00m\n\u001b[1;32m   1891\u001b[0m f \u001b[38;5;241m=\u001b[39m \u001b[38;5;28mself\u001b[39m\u001b[38;5;241m.\u001b[39mhandles\u001b[38;5;241m.\u001b[39mhandle\n",
      "File \u001b[0;32m/usr/local/lib/python3.10/site-packages/pandas/io/common.py:873\u001b[0m, in \u001b[0;36mget_handle\u001b[0;34m(path_or_buf, mode, encoding, compression, memory_map, is_text, errors, storage_options)\u001b[0m\n\u001b[1;32m    868\u001b[0m \u001b[38;5;28;01melif\u001b[39;00m \u001b[38;5;28misinstance\u001b[39m(handle, \u001b[38;5;28mstr\u001b[39m):\n\u001b[1;32m    869\u001b[0m     \u001b[38;5;66;03m# Check whether the filename is to be opened in binary mode.\u001b[39;00m\n\u001b[1;32m    870\u001b[0m     \u001b[38;5;66;03m# Binary mode does not support 'encoding' and 'newline'.\u001b[39;00m\n\u001b[1;32m    871\u001b[0m     \u001b[38;5;28;01mif\u001b[39;00m ioargs\u001b[38;5;241m.\u001b[39mencoding \u001b[38;5;129;01mand\u001b[39;00m \u001b[38;5;124m\"\u001b[39m\u001b[38;5;124mb\u001b[39m\u001b[38;5;124m\"\u001b[39m \u001b[38;5;129;01mnot\u001b[39;00m \u001b[38;5;129;01min\u001b[39;00m ioargs\u001b[38;5;241m.\u001b[39mmode:\n\u001b[1;32m    872\u001b[0m         \u001b[38;5;66;03m# Encoding\u001b[39;00m\n\u001b[0;32m--> 873\u001b[0m         handle \u001b[38;5;241m=\u001b[39m \u001b[38;5;28;43mopen\u001b[39;49m\u001b[43m(\u001b[49m\n\u001b[1;32m    874\u001b[0m \u001b[43m            \u001b[49m\u001b[43mhandle\u001b[49m\u001b[43m,\u001b[49m\n\u001b[1;32m    875\u001b[0m \u001b[43m            \u001b[49m\u001b[43mioargs\u001b[49m\u001b[38;5;241;43m.\u001b[39;49m\u001b[43mmode\u001b[49m\u001b[43m,\u001b[49m\n\u001b[1;32m    876\u001b[0m \u001b[43m            \u001b[49m\u001b[43mencoding\u001b[49m\u001b[38;5;241;43m=\u001b[39;49m\u001b[43mioargs\u001b[49m\u001b[38;5;241;43m.\u001b[39;49m\u001b[43mencoding\u001b[49m\u001b[43m,\u001b[49m\n\u001b[1;32m    877\u001b[0m \u001b[43m            \u001b[49m\u001b[43merrors\u001b[49m\u001b[38;5;241;43m=\u001b[39;49m\u001b[43merrors\u001b[49m\u001b[43m,\u001b[49m\n\u001b[1;32m    878\u001b[0m \u001b[43m            \u001b[49m\u001b[43mnewline\u001b[49m\u001b[38;5;241;43m=\u001b[39;49m\u001b[38;5;124;43m\"\u001b[39;49m\u001b[38;5;124;43m\"\u001b[39;49m\u001b[43m,\u001b[49m\n\u001b[1;32m    879\u001b[0m \u001b[43m        \u001b[49m\u001b[43m)\u001b[49m\n\u001b[1;32m    880\u001b[0m     \u001b[38;5;28;01melse\u001b[39;00m:\n\u001b[1;32m    881\u001b[0m         \u001b[38;5;66;03m# Binary mode\u001b[39;00m\n\u001b[1;32m    882\u001b[0m         handle \u001b[38;5;241m=\u001b[39m \u001b[38;5;28mopen\u001b[39m(handle, ioargs\u001b[38;5;241m.\u001b[39mmode)\n",
      "\u001b[0;31mFileNotFoundError\u001b[0m: [Errno 2] No such file or directory: '/frontend/PFC/outputs/2025-02-06_v1/BP23/normalized_pfc.csv'"
     ]
    }
   ],
   "source": [
    "adj_PFC = adjust_pfc(**inputs_adj, save_files=True)"
   ]
  },
  {
   "cell_type": "code",
   "execution_count": null,
   "id": "8e7a7549-6960-4386-adf1-f711e5300e2d",
   "metadata": {},
   "outputs": [],
   "source": []
  },
  {
   "cell_type": "code",
   "execution_count": null,
   "id": "31d56800-eb5a-4488-ab0e-932623e677b8",
   "metadata": {},
   "outputs": [],
   "source": []
  },
  {
   "cell_type": "code",
   "execution_count": null,
   "id": "9f90f8c0-f982-489a-94df-4f1963421503",
   "metadata": {},
   "outputs": [],
   "source": []
  }
 ],
 "metadata": {
  "kernelspec": {
   "display_name": "Python 3 (ipykernel)",
   "language": "python",
   "name": "python3"
  },
  "language_info": {
   "codemirror_mode": {
    "name": "ipython",
    "version": 3
   },
   "file_extension": ".py",
   "mimetype": "text/x-python",
   "name": "python",
   "nbconvert_exporter": "python",
   "pygments_lexer": "ipython3",
   "version": "3.10.16"
  }
 },
 "nbformat": 4,
 "nbformat_minor": 5
}
