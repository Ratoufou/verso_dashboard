{
 "cells": [
  {
   "cell_type": "code",
   "execution_count": 1,
   "id": "db3c9d09-cc49-4aec-b370-c40e73628627",
   "metadata": {},
   "outputs": [],
   "source": [
    "import pandas as pd \n",
    "import psycopg2\n",
    "import os"
   ]
  },
  {
   "cell_type": "code",
   "execution_count": 2,
   "id": "52a73b2f-2565-4ef0-8e4e-7e723b8319fa",
   "metadata": {},
   "outputs": [],
   "source": [
    "DB_CONFIG = {\n",
    "    'host' : 'db',\n",
    "    'database' : 'verso_database',\n",
    "    'user' : 'root',\n",
    "    'password' : 'versosql'\n",
    "}"
   ]
  },
  {
   "cell_type": "code",
   "execution_count": 12,
   "id": "b87ec806-2b11-4bdf-935f-d177728ea8e9",
   "metadata": {},
   "outputs": [],
   "source": [
    "conn = psycopg2.connect(**DB_CONFIG) \n",
    "cursor = conn.cursor()\n",
    "cursor.execute(\"SELECT spot_table.Timestamp, spot_table.spot_price, pv_prod_table.pv_prod FROM (SELECT delivery_start AS Timestamp, price AS spot_price FROM elec_day_ahead_market WHERE tenor = 'PT1H') AS spot_table LEFT JOIN (SELECT date_trunc('hour', prod_start) AS Timestamp, AVG(quantity) AS pv_prod FROM production_per_type WHERE tenor = 'PT1H' AND production_type = 'SOLAR' GROUP BY Timestamp) AS pv_prod_table ON spot_table.Timestamp = pv_prod_table.Timestamp ORDER BY spot_table.Timestamp\")\n",
    "results = cursor.fetchall()"
   ]
  },
  {
   "cell_type": "code",
   "execution_count": 14,
   "id": "89efee7d-c4af-48d2-b661-cb53ed32ba0c",
   "metadata": {},
   "outputs": [],
   "source": [
    "df = pd.DataFrame(data=results, columns=[d.name for d in cursor.description])"
   ]
  },
  {
   "cell_type": "markdown",
   "id": "65c147f9-fbe5-41ed-b92b-d134064fc76d",
   "metadata": {},
   "source": [
    "## Consumption"
   ]
  },
  {
   "cell_type": "code",
   "execution_count": 4,
   "id": "97850aff-4045-47f2-8f7f-b0e1fe4aa1c3",
   "metadata": {},
   "outputs": [],
   "source": [
    "path = '/frontend/data/Consumption'\n",
    "os.makedirs(path, exist_ok=True)"
   ]
  },
  {
   "cell_type": "code",
   "execution_count": 23,
   "id": "9887781e-bdc5-45ab-afbf-658697ef8953",
   "metadata": {},
   "outputs": [],
   "source": [
    "conn = psycopg2.connect(**DB_CONFIG) \n",
    "cursor = conn.cursor()\n",
    "cursor.execute(\"SELECT cons_start, quantity FROM consumption WHERE tenor = 'PT15M' AND curve_type = 'REALISED' ORDER BY cons_start\")\n",
    "results = cursor.fetchall()\n",
    "cons_df = pd.DataFrame(data=results, columns=['Timestamp', 'Cons'])\n",
    "cons_df.Cons = cons_df.Cons.astype(float)\n",
    "cons_df.set_index('Timestamp', inplace = True)"
   ]
  },
  {
   "cell_type": "code",
   "execution_count": 24,
   "id": "75dd47fe-fe40-4a56-aba9-be5bf297bec9",
   "metadata": {},
   "outputs": [],
   "source": [
    "cons_df = cons_df.resample('h').mean()\n",
    "groups = cons_df.groupby(cons_df.index.year)\n",
    "for year in range(2016, 2025):\n",
    "    groups.get_group(year).to_excel(f'{path}/{year}.xlsx')"
   ]
  },
  {
   "cell_type": "markdown",
   "id": "7d9e6144-47ed-44ca-b97c-fd1daf01d6c1",
   "metadata": {},
   "source": [
    "## PV + Capacity factor"
   ]
  },
  {
   "cell_type": "markdown",
   "id": "70c70731-f588-47d4-ade4-0557450e6f7f",
   "metadata": {},
   "source": [
    "### PV"
   ]
  },
  {
   "cell_type": "code",
   "execution_count": 89,
   "id": "d3ec511d-c7e5-461d-bde6-25d3fa6b03a1",
   "metadata": {},
   "outputs": [],
   "source": [
    "path = '/frontend/data/PV'\n",
    "os.makedirs(path, exist_ok=True)"
   ]
  },
  {
   "cell_type": "code",
   "execution_count": 90,
   "id": "9b3759c8-1d5f-4464-895b-e89487698d37",
   "metadata": {},
   "outputs": [],
   "source": [
    "conn = psycopg2.connect(**DB_CONFIG) \n",
    "cursor = conn.cursor()\n",
    "cursor.execute(\"SELECT date_trunc('hour', prod_start) AS Timestamp, AVG(quantity) AS value FROM production_per_type WHERE tenor = 'PT1H' AND production_type = 'SOLAR' GROUP BY Timestamp ORDER BY Timestamp\")\n",
    "results = cursor.fetchall()\n",
    "prod_df = pd.DataFrame(data=results, columns=['Timestamp', 'PV'])\n",
    "prod_df.PV = prod_df.PV.astype(float)\n",
    "prod_df.set_index('Timestamp', inplace = True)"
   ]
  },
  {
   "cell_type": "code",
   "execution_count": 91,
   "id": "b8e973fe-1ad8-4c35-81bf-0febc1f8fdc8",
   "metadata": {},
   "outputs": [],
   "source": [
    "prod_df = prod_df.resample('h').interpolate('time')"
   ]
  },
  {
   "cell_type": "code",
   "execution_count": 92,
   "id": "87949af3-09f4-4a88-9b8c-14c8aade740f",
   "metadata": {},
   "outputs": [],
   "source": [
    "groups = prod_df.groupby(prod_df.index.year)\n",
    "for year in range(2015, 2025):\n",
    "    groups.get_group(year).to_excel(f'{path}/{year}.xlsx')"
   ]
  },
  {
   "cell_type": "markdown",
   "id": "747c55fd-acbe-4cba-9a59-bd95edcd217e",
   "metadata": {},
   "source": [
    "### Capacity factor"
   ]
  },
  {
   "cell_type": "code",
   "execution_count": 93,
   "id": "622ac71f-a164-44f7-9e28-e713ae8af1d0",
   "metadata": {},
   "outputs": [],
   "source": [
    "path = '/frontend/data/PV_CF'\n",
    "os.makedirs(path, exist_ok=True)"
   ]
  },
  {
   "cell_type": "code",
   "execution_count": 94,
   "id": "9f4550d6-e967-4c67-9286-adf7a46f6cbb",
   "metadata": {},
   "outputs": [],
   "source": [
    "prod_df = prod_df.tz_localize('UTC').tz_convert('CET')\n",
    "prod_df['Year'] = prod_df.index.year\n",
    "prod_df.reset_index(inplace=True)"
   ]
  },
  {
   "cell_type": "code",
   "execution_count": 95,
   "id": "ae56bff3-4585-4e65-8689-ea53f547f0cd",
   "metadata": {},
   "outputs": [],
   "source": [
    "conn = psycopg2.connect(**DB_CONFIG) \n",
    "cursor = conn.cursor()\n",
    "cursor.execute(\"SELECT capa_start, quantity FROM installed_capacities WHERE capacities_type = 'SOLAR' ORDER BY capa_start\")\n",
    "results = cursor.fetchall()\n",
    "capa_df = pd.DataFrame(data=results, columns=['start', 'PV_capa'])\n",
    "capa_df.PV_capa = capa_df.PV_capa.astype(float)\n",
    "capa_df.start = pd.to_datetime(capa_df.start, utc=True).dt.tz_convert('CET')\n",
    "capa_df['Year'] = capa_df.start.dt.year"
   ]
  },
  {
   "cell_type": "code",
   "execution_count": 96,
   "id": "8590467c-0cf0-47a8-b74c-b6062b28a832",
   "metadata": {},
   "outputs": [],
   "source": [
    "cf_df = pd.merge(left=prod_df, right=capa_df, left_on='Year', right_on='Year').set_index('Timestamp')[['PV', 'PV_capa']]\n",
    "cf_df['PV_cf'] = cf_df.PV / cf_df.PV_capa\n",
    "cf_df = cf_df[['PV_cf']].tz_convert('UTC').tz_localize(None)"
   ]
  },
  {
   "cell_type": "code",
   "execution_count": 97,
   "id": "cf1bf812-5e41-482a-ac28-82501fc6f769",
   "metadata": {},
   "outputs": [],
   "source": [
    "groups = cf_df.groupby(cf_df.index.year)\n",
    "for year in range(2015, 2024):\n",
    "    groups.get_group(year).to_excel(f'{path}/{year}.xlsx')"
   ]
  },
  {
   "cell_type": "markdown",
   "id": "0fbfe6a3-7497-4b85-a114-5e9da57b84ab",
   "metadata": {
    "jp-MarkdownHeadingCollapsed": true
   },
   "source": [
    "## Wind + Capacity factor"
   ]
  },
  {
   "cell_type": "markdown",
   "id": "51f52f50-1b7e-4dda-bda0-2ee62b62db77",
   "metadata": {
    "jp-MarkdownHeadingCollapsed": true
   },
   "source": [
    "### Wind"
   ]
  },
  {
   "cell_type": "code",
   "execution_count": 103,
   "id": "39691082-40cc-4bf3-ab97-76389ae233ab",
   "metadata": {},
   "outputs": [],
   "source": [
    "path = '/frontend/data/Wind'\n",
    "os.makedirs(path, exist_ok=True)"
   ]
  },
  {
   "cell_type": "code",
   "execution_count": 104,
   "id": "0aa38bbc-7272-48b1-be21-3edd0a06da06",
   "metadata": {},
   "outputs": [],
   "source": [
    "conn = psycopg2.connect(**DB_CONFIG) \n",
    "cursor = conn.cursor()\n",
    "cursor.execute(\"SELECT date_trunc('hour', prod_start) AS Timestamp, \"\n",
    "               \"AVG(value) as Prod \"\n",
    "               \"FROM (SELECT prod_start, SUM(quantity) AS value \"\n",
    "               \"FROM production_per_type \"\n",
    "               \"WHERE tenor = 'PT1H' AND \"\n",
    "               \"production_type IN ('WIND_OFFSHORE', 'WIND_ONSHORE') \"\n",
    "               \"GROUP BY prod_start) \"\n",
    "               \"GROUP BY Timestamp ORDER BY Timestamp\")\n",
    "results = cursor.fetchall()\n",
    "prod_df = pd.DataFrame(data=results, columns=['Timestamp', 'Wind'])\n",
    "prod_df.Wind = prod_df.Wind.astype(float)\n",
    "prod_df.set_index('Timestamp', inplace = True)"
   ]
  },
  {
   "cell_type": "code",
   "execution_count": 105,
   "id": "bbed0bf7-962e-4a54-a3f8-b96a2901af90",
   "metadata": {},
   "outputs": [],
   "source": [
    "prod_df = prod_df.resample('h').interpolate('time')"
   ]
  },
  {
   "cell_type": "code",
   "execution_count": 106,
   "id": "7b648ccd-55e2-42d6-97fa-d7c8f4cec086",
   "metadata": {},
   "outputs": [],
   "source": [
    "groups = prod_df.groupby(prod_df.index.year)\n",
    "for year in range(2015, 2025):\n",
    "    groups.get_group(year).to_excel(f'{path}/{year}.xlsx')"
   ]
  },
  {
   "cell_type": "markdown",
   "id": "c331a194-8676-47ef-b2e3-a570661968e7",
   "metadata": {},
   "source": [
    "### Capacity factor"
   ]
  },
  {
   "cell_type": "code",
   "execution_count": 107,
   "id": "54daa91a-107d-4703-8974-b1bf19790970",
   "metadata": {},
   "outputs": [],
   "source": [
    "path = '/frontend/data/Wind_CF'\n",
    "os.makedirs(path, exist_ok=True)"
   ]
  },
  {
   "cell_type": "code",
   "execution_count": 109,
   "id": "1a1f24f9-f34d-4acb-8705-a73cf4f3026a",
   "metadata": {},
   "outputs": [],
   "source": [
    "prod_df = prod_df.tz_localize('UTC').tz_convert('CET')\n",
    "prod_df['Year'] = prod_df.index.year\n",
    "prod_df.reset_index(inplace=True)"
   ]
  },
  {
   "cell_type": "code",
   "execution_count": 110,
   "id": "45106218-34f4-482a-8e54-911b54de7ae3",
   "metadata": {},
   "outputs": [],
   "source": [
    "conn = psycopg2.connect(**DB_CONFIG) \n",
    "cursor = conn.cursor()\n",
    "cursor.execute(\"SELECT capa_start, SUM(quantity) \"\n",
    "               \"FROM installed_capacities \"\n",
    "               \"WHERE capacities_type IN ('WIND_OFFSHORE', 'WIND_ONSHORE') \"\n",
    "               \"GROUP BY capa_start ORDER BY capa_start\")\n",
    "results = cursor.fetchall()\n",
    "capa_df = pd.DataFrame(data=results, columns=['start', 'Wind_capa'])\n",
    "capa_df.Wind_capa = capa_df.Wind_capa.astype(float)\n",
    "capa_df.start = pd.to_datetime(capa_df.start, utc=True).dt.tz_convert('CET')\n",
    "capa_df['Year'] = capa_df.start.dt.year"
   ]
  },
  {
   "cell_type": "code",
   "execution_count": 113,
   "id": "a0d211f9-3e7d-45ca-95cd-9bbe4506a721",
   "metadata": {},
   "outputs": [],
   "source": [
    "cf_df = pd.merge(left=prod_df, right=capa_df, left_on='Year', right_on='Year').set_index('Timestamp')[['Wind', 'Wind_capa']]\n",
    "cf_df['Wind_cf'] = cf_df.Wind / cf_df.Wind_capa\n",
    "cf_df = cf_df[['Wind_cf']].tz_convert('UTC').tz_localize(None)"
   ]
  },
  {
   "cell_type": "code",
   "execution_count": 114,
   "id": "6682bb79-a6d0-478b-8a29-bbc682754841",
   "metadata": {},
   "outputs": [],
   "source": [
    "groups = cf_df.groupby(cf_df.index.year)\n",
    "for year in range(2015, 2024):\n",
    "    groups.get_group(year).to_excel(f'{path}/{year}.xlsx')"
   ]
  },
  {
   "cell_type": "code",
   "execution_count": null,
   "id": "74c28424-2017-4c78-b645-14326ee17cee",
   "metadata": {},
   "outputs": [],
   "source": []
  }
 ],
 "metadata": {
  "kernelspec": {
   "display_name": "Python 3 (ipykernel)",
   "language": "python",
   "name": "python3"
  },
  "language_info": {
   "codemirror_mode": {
    "name": "ipython",
    "version": 3
   },
   "file_extension": ".py",
   "mimetype": "text/x-python",
   "name": "python",
   "nbconvert_exporter": "python",
   "pygments_lexer": "ipython3",
   "version": "3.10.16"
  }
 },
 "nbformat": 4,
 "nbformat_minor": 5
}
