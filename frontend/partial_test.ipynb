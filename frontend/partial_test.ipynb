{
 "cells": [
  {
   "cell_type": "code",
   "execution_count": 84,
   "id": "9ba216c8-b63a-47f0-82fa-0af0c69be9e9",
   "metadata": {},
   "outputs": [],
   "source": [
    "import pandas as pd \n",
    "import psycopg2\n",
    "import os\n",
    "import plotly.graph_objects as go\n",
    "import plotly.express as px\n",
    "import datetime as dt\n",
    "import dash_bootstrap_components as dbc\n",
    "from dash import Dash, dcc, html, Input, Output, callback, ctx, exceptions, dash_table"
   ]
  },
  {
   "cell_type": "code",
   "execution_count": 124,
   "id": "9fc387fd-2bf9-4019-b684-530c6e81f215",
   "metadata": {},
   "outputs": [
    {
     "name": "stdout",
     "output_type": "stream",
     "text": [
      "Dash app running on http://0.0.0.0:8050/\n"
     ]
    },
    {
     "data": {
      "application/javascript": [
       "window.open('http://0.0.0.0:8050/')"
      ],
      "text/plain": [
       "<IPython.core.display.Javascript object>"
      ]
     },
     "metadata": {},
     "output_type": "display_data"
    }
   ],
   "source": [
    "app = Dash(__name__)\n",
    "\n",
    "app.layout = html.Div(className='dash_page', children = [\n",
    "    html.Div(className='horizontal_container', children = [\n",
    "        html.H1(\n",
    "            className = 'heading page_title',\n",
    "            children = f'Energy Markets Dashboard - {dt.date.today().strftime(format=\"%d/%m/%Y\")}'),\n",
    "        html.Img(\n",
    "            className = 'logo',\n",
    "            src=\"assets/logo_bleu.png\")\n",
    "    ]),\n",
    "    html.H2(\n",
    "        className = 'heading section_title',\n",
    "        children = 'Power'),\n",
    "    html.Div(className = 'horizontal_container', children = [\n",
    "        html.Div(className = 'figure_container', children = [\n",
    "            html.Div(className = 'horizontal_container menu', children = [\n",
    "                dcc.Input(\n",
    "                    className = 'menu_item',\n",
    "                    type='date',\n",
    "                    value='2024-12-01'),\n",
    "                dcc.Input(\n",
    "                    className = 'menu_item',\n",
    "                    type='date',\n",
    "                    value='2024-12-01'),\n",
    "                html.Button(\n",
    "                    ' YTD ',\n",
    "                    id='ytd-button',\n",
    "                    className = 'menu_item'),\n",
    "                html.Button(\n",
    "                    ' QTD ',\n",
    "                    className = 'menu_item',\n",
    "                    id='qtd-button'),\n",
    "                html.Button(\n",
    "                    ' MTD ',\n",
    "                    className = 'menu_item',\n",
    "                    id='mtd-button'),\n",
    "                html.Button(\n",
    "                    ' All ',\n",
    "                    className = 'menu_item',\n",
    "                    id='all-button'),\n",
    "                html.Select(\n",
    "                    id='sampling-dropdown',\n",
    "                    className = 'menu_item',\n",
    "                    children=[html.Option(value=sampling, children=sampling) for sampling in ['Hourly', 'Daily', 'Monthly']]\n",
    "                ),\n",
    "                html.Select(\n",
    "                    id='tenor-dropdown',\n",
    "                    className = 'menu_item',\n",
    "                    children=[html.Option(value=tenor, children=tenor) for tenor in ['None', 'Month', 'Quarter', 'Year']]\n",
    "                ),\n",
    "                html.Button(\n",
    "                    'Download',\n",
    "                    className = 'menu_item',\n",
    "                    id='download-button'),\n",
    "                dcc.Download(id = 'download-spot')\n",
    "            ]),\n",
    "        ]),\n",
    "        html.Div(className = 'figure_container', children = 'Test2')\n",
    "    ])\n",
    "])\n",
    "\n",
    "app.run(jupyter_mode=\"tab\", host='0.0.0.0')"
   ]
  },
  {
   "cell_type": "code",
   "execution_count": null,
   "id": "47b4b8f6-ca80-4058-bccd-b3e3b1c7e741",
   "metadata": {},
   "outputs": [],
   "source": []
  }
 ],
 "metadata": {
  "kernelspec": {
   "display_name": "Python 3 (ipykernel)",
   "language": "python",
   "name": "python3"
  },
  "language_info": {
   "codemirror_mode": {
    "name": "ipython",
    "version": 3
   },
   "file_extension": ".py",
   "mimetype": "text/x-python",
   "name": "python",
   "nbconvert_exporter": "python",
   "pygments_lexer": "ipython3",
   "version": "3.10.16"
  }
 },
 "nbformat": 4,
 "nbformat_minor": 5
}
