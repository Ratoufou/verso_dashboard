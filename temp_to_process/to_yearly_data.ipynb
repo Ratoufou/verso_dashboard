{
 "cells": [
  {
   "cell_type": "code",
   "execution_count": 1,
   "metadata": {},
   "outputs": [],
   "source": [
    "import pandas as pd"
   ]
  },
  {
   "cell_type": "code",
   "execution_count": 2,
   "metadata": {},
   "outputs": [],
   "source": [
    "def read_enedis(file, name_ts):\n",
    "    df = pd.read_excel(file, skiprows=15)\n",
    "    df.drop(labels=['Unnamed: 1'], axis=1, inplace=True)\n",
    "    df.dropna(inplace=True)\n",
    "    df = df.melt(id_vars='Date', var_name='n_half_hour', value_name=name_ts).sort_values(['Date', 'n_half_hour'])\n",
    "    df['hour'] = (df.n_half_hour - 1) // 2\n",
    "    df['minutes'] = ((df.n_half_hour - 1) % 2) * 30\n",
    "    df.index = pd.to_datetime(df.Date.astype(str)+' '+df.hour.astype(str).apply(lambda x: '0'*(2-len(x))+x) +':'+df.minutes.astype(str).apply(lambda x: '0'*(2-len(x))+x), \n",
    "                              dayfirst=True,\n",
    "                              format='mixed')\n",
    "    df = df[[name_ts]]\n",
    "    return df"
   ]
  },
  {
   "cell_type": "code",
   "execution_count": 7,
   "metadata": {},
   "outputs": [],
   "source": [
    "for year in range(2015, 2021):\n",
    "    TR_df = read_enedis(f'Temp_Reelles_{year}.xls', 'TR')\n",
    "    TN_df = read_enedis(f'TN_{year}.xls', 'TN')\n",
    "    T_df = pd.concat([TN_df, TR_df], axis=1)\n",
    "    T_df['TRS'] = T_df.TR.where(T_df.TR < 15, T_df.TN)\n",
    "    T_df['deltaT'] = T_df.TR - T_df.TN\n",
    "    T_df['deltaTS'] = T_df.TRS - T_df.TN\n",
    "    T_df.index.name = 'Timestamp'\n",
    "    T_df.resample('h').mean().round(1).to_excel(f'{year}.xlsx')"
   ]
  }
 ],
 "metadata": {
  "kernelspec": {
   "display_name": "venv_pipeline",
   "language": "python",
   "name": "python3"
  },
  "language_info": {
   "codemirror_mode": {
    "name": "ipython",
    "version": 3
   },
   "file_extension": ".py",
   "mimetype": "text/x-python",
   "name": "python",
   "nbconvert_exporter": "python",
   "pygments_lexer": "ipython3",
   "version": "3.13.0"
  }
 },
 "nbformat": 4,
 "nbformat_minor": 2
}
