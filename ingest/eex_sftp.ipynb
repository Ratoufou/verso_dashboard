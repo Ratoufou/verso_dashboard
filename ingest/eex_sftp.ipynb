{
 "cells": [
  {
   "cell_type": "code",
   "execution_count": 115,
   "metadata": {},
   "outputs": [],
   "source": [
    "import paramiko\n",
    "import os\n",
    "import datetime as dt\n",
    "from pandas import date_range\n",
    "from tqdm import tqdm"
   ]
  },
  {
   "cell_type": "code",
   "execution_count": 116,
   "metadata": {},
   "outputs": [],
   "source": [
    "DATA_PATH = r'C:\\Users\\Raphaël Thireau\\OneDrive - versoenergy\\Documents\\datapipeline\\process\\data'\n",
    "FUTURES_PATH = '/F:/EEX_Production/master/market_data/power/fr/derivatives/csv/'\n",
    "SFTP_CONFIG = {\n",
    "    'hostname' : 'datasource.eex-group.com',\n",
    "    'port' : 22,\n",
    "    'username' : 'EEX_8458',\n",
    "    'password' : '4dt161SV'\n",
    "}"
   ]
  },
  {
   "cell_type": "code",
   "execution_count": 117,
   "metadata": {},
   "outputs": [],
   "source": [
    "def eex_connexion(sftp_config=SFTP_CONFIG):    \n",
    "    ssh = paramiko.SSHClient()\n",
    "    ssh.set_missing_host_key_policy(paramiko.AutoAddPolicy())\n",
    "    ssh.connect(**sftp_config)\n",
    "    sftp = ssh.open_sftp()\n",
    "    return ssh, sftp"
   ]
  },
  {
   "cell_type": "code",
   "execution_count": 119,
   "metadata": {},
   "outputs": [
    {
     "name": "stderr",
     "output_type": "stream",
     "text": [
      "100%|██████████| 1000/1000 [12:45<00:00,  1.31it/s]\n"
     ]
    }
   ],
   "source": [
    "ssh, sftp = eex_connexion()\n",
    "for date in tqdm(date_range(start='2022-05-18', end='2025-02-10', inclusive='both', freq='D').date):\n",
    "    if not(date.weekday() > 4):\n",
    "        date_str = date.strftime('%Y%m%d')\n",
    "        try:\n",
    "            sftp.get(\n",
    "                remotepath=os.path.join(FUTURES_PATH, str(date.year), date_str, f'PowerFutureResults_FR_{date_str}.CSV'),\n",
    "                localpath=os.path.join(DATA_PATH, 'EEX', 'Power', 'Futures', f'{date_str}_Power_Futures_EEX_FR.csv'))\n",
    "        except FileNotFoundError:\n",
    "            with open(os.path.join(DATA_PATH, 'EEX', 'log_Power_Futures_EEX_FR.txt'), 'a') as f:\n",
    "                f.write(f'{date_str}\\n')\n",
    "        # except OSError:\n",
    "        #     ssh, sftp = eex_connexion()\n",
    "        #     sftp.get(\n",
    "        #         remotepath=os.path.join(FUTURES_PATH, str(date.year), date_str, f'PowerFutureResults_FR_{date_str}.CSV'),\n",
    "        #         localpath=os.path.join(DATA_PATH, 'EEX', 'Power', 'Futures', f'{date_str}_Power_Futures_EEX_FR.csv'))\n",
    "sftp.close()\n",
    "ssh.close()"
   ]
  }
 ],
 "metadata": {
  "kernelspec": {
   "display_name": "venv_pipeline",
   "language": "python",
   "name": "python3"
  },
  "language_info": {
   "codemirror_mode": {
    "name": "ipython",
    "version": 3
   },
   "file_extension": ".py",
   "mimetype": "text/x-python",
   "name": "python",
   "nbconvert_exporter": "python",
   "pygments_lexer": "ipython3",
   "version": "3.13.0"
  }
 },
 "nbformat": 4,
 "nbformat_minor": 2
}
