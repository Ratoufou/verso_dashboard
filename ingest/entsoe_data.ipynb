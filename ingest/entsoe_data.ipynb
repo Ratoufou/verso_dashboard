{
 "cells": [
  {
   "cell_type": "code",
   "execution_count": 1,
   "metadata": {},
   "outputs": [],
   "source": [
    "import requests\n",
    "import pandas as pd\n",
    "import lxml.etree as et\n",
    "from utils import DayCET\n",
    "from isodate import parse_duration\n",
    "from tqdm import tqdm"
   ]
  },
  {
   "cell_type": "markdown",
   "metadata": {},
   "source": [
    "# From API to file"
   ]
  },
  {
   "cell_type": "code",
   "execution_count": 2,
   "metadata": {},
   "outputs": [],
   "source": [
    "TOKEN = \"e576c346-cc1a-4c98-8254-c79ddf60dc99\"\n",
    "ENDPOINT = \"https://web-api.tp.entsoe.eu/api\"\n",
    "f2C_tEIC = {\n",
    "    'FR' : '10YFR-RTE------C'\n",
    "}\n",
    "fEIC_t2C = {v: k for k, v in f2C_tEIC.items()}\n",
    "ROOT_PATH = r'C:\\Users\\Raphaël Thireau\\OneDrive - versoenergy\\Documents\\datapipeline'"
   ]
  },
  {
   "cell_type": "code",
   "execution_count": 3,
   "metadata": {},
   "outputs": [],
   "source": [
    "def request_from_dict(dict):\n",
    "    return f'{ENDPOINT}?{\"&\".join([f\"{k}={v}\" for k, v in dict.items()])}&securityToken={TOKEN}'"
   ]
  },
  {
   "cell_type": "code",
   "execution_count": 4,
   "metadata": {},
   "outputs": [],
   "source": [
    "def DA_price_request(start : pd.Timestamp, end : pd.Timestamp, bidding_zone):\n",
    "    eic_code = f2C_tEIC[bidding_zone]\n",
    "    request_dict = {\n",
    "        'documentType' : 'A44',\n",
    "        'periodStart' : start.strftime(format='%Y%m%d%H%M'),\n",
    "        'periodEnd' : end.strftime(format='%Y%m%d%H%M'),\n",
    "        'out_Domain' : eic_code,\n",
    "        'in_Domain' : eic_code, \n",
    "    }\n",
    "    return request_from_dict(request_dict)"
   ]
  },
  {
   "cell_type": "code",
   "execution_count": 5,
   "metadata": {},
   "outputs": [],
   "source": [
    "def get_DA_price_xml(day : DayCET, bidding_zone):\n",
    "    url = DA_price_request(start=day.start_utc, end=day.end_utc, bidding_zone=bidding_zone)\n",
    "    resp = requests.get(url=url)\n",
    "    root = et.fromstring(resp.content)\n",
    "    et.indent(root, space=\"    \")\n",
    "    et.ElementTree(root).write(f'{ROOT_PATH}/process/data/ENTSOE/DayAhead/{bidding_zone}/{day.date_str.replace('-', '')}_DA_price_{bidding_zone}.xml')\n",
    "    return root"
   ]
  },
  {
   "cell_type": "code",
   "execution_count": 6,
   "metadata": {},
   "outputs": [
    {
     "name": "stderr",
     "output_type": "stream",
     "text": [
      "100%|██████████| 3/3 [00:04<00:00,  1.52s/it]\n"
     ]
    }
   ],
   "source": [
    "for date in tqdm(pd.date_range(start='2024-12-17', end='2024-12-19', freq='D', inclusive='both')):\n",
    "    get_DA_price_xml(DayCET(date.strftime(format='%Y-%m-%d')), 'FR')"
   ]
  },
  {
   "cell_type": "code",
   "execution_count": 12,
   "metadata": {},
   "outputs": [],
   "source": [
    "root = get_DA_price_xml(DayCET('2024-12-01'), 'FR')"
   ]
  },
  {
   "cell_type": "markdown",
   "metadata": {},
   "source": [
    "# From file to DataFrame"
   ]
  },
  {
   "cell_type": "code",
   "execution_count": 15,
   "metadata": {},
   "outputs": [],
   "source": [
    "ROOT_PATH = r'C:\\Users\\Raphaël Thireau\\OneDrive - versoenergy\\Documents\\datapipeline'\n",
    "bidding_zone = 'FR'\n",
    "date = '2024-12-04'\n",
    "file = f'{ROOT_PATH}/data/entsoe/da_price/{bidding_zone}/{date.replace('-', '')}_DA_price_{bidding_zone}.xml'"
   ]
  },
  {
   "cell_type": "code",
   "execution_count": null,
   "metadata": {},
   "outputs": [],
   "source": [
    "tree = et.parse(file)\n",
    "root = tree.getroot()\n",
    "ns = root.nsmap\n",
    "ts_elem = root.find('TimeSeries', namespaces=ns)\n",
    "country = fEIC_t2C[ts_elem.find('in_Domain.mRID', namespaces=ns).text]\n",
    "period_elem = ts_elem.find('Period', namespaces=ns)\n",
    "time_inteval_elem = period_elem.find('timeInterval', namespaces=ns)\n",
    "start = pd.Timestamp(time_inteval_elem.find('start', namespaces=ns).text)\n",
    "end = pd.Timestamp(time_inteval_elem.find('end', namespaces=ns).text)\n",
    "resolution = parse_duration(period_elem.find('resolution', namespaces=ns).text)\n",
    "date_range = pd.date_range(start=start, end=end, freq=resolution, inclusive='left').tz_localize(None)\n",
    "val = [0 for _ in range(len(date_range))]\n",
    "for pt in period_elem.findall('Point', namespaces=ns):\n",
    "    pos = int(pt.find('position', namespaces=ns).text)\n",
    "    price = float(pt.find('price.amount', namespaces=ns).text)\n",
    "    val[pos-1] = price\n",
    "df = pd.DataFrame(data=val, index=date_range, columns=['price'])"
   ]
  },
  {
   "cell_type": "markdown",
   "metadata": {},
   "source": [
    "# From DataFrame to SQL"
   ]
  },
  {
   "cell_type": "code",
   "execution_count": 62,
   "metadata": {},
   "outputs": [
    {
     "data": {
      "text/html": [
       "<div>\n",
       "<style scoped>\n",
       "    .dataframe tbody tr th:only-of-type {\n",
       "        vertical-align: middle;\n",
       "    }\n",
       "\n",
       "    .dataframe tbody tr th {\n",
       "        vertical-align: top;\n",
       "    }\n",
       "\n",
       "    .dataframe thead th {\n",
       "        text-align: right;\n",
       "    }\n",
       "</style>\n",
       "<table border=\"1\" class=\"dataframe\">\n",
       "  <thead>\n",
       "    <tr style=\"text-align: right;\">\n",
       "      <th></th>\n",
       "      <th>price</th>\n",
       "    </tr>\n",
       "  </thead>\n",
       "  <tbody>\n",
       "    <tr>\n",
       "      <th>2024-12-03 23:00:00</th>\n",
       "      <td>121.12</td>\n",
       "    </tr>\n",
       "    <tr>\n",
       "      <th>2024-12-04 00:00:00</th>\n",
       "      <td>116.66</td>\n",
       "    </tr>\n",
       "    <tr>\n",
       "      <th>2024-12-04 01:00:00</th>\n",
       "      <td>112.79</td>\n",
       "    </tr>\n",
       "    <tr>\n",
       "      <th>2024-12-04 02:00:00</th>\n",
       "      <td>108.90</td>\n",
       "    </tr>\n",
       "    <tr>\n",
       "      <th>2024-12-04 03:00:00</th>\n",
       "      <td>106.98</td>\n",
       "    </tr>\n",
       "    <tr>\n",
       "      <th>2024-12-04 04:00:00</th>\n",
       "      <td>110.72</td>\n",
       "    </tr>\n",
       "    <tr>\n",
       "      <th>2024-12-04 05:00:00</th>\n",
       "      <td>132.55</td>\n",
       "    </tr>\n",
       "    <tr>\n",
       "      <th>2024-12-04 06:00:00</th>\n",
       "      <td>149.23</td>\n",
       "    </tr>\n",
       "    <tr>\n",
       "      <th>2024-12-04 07:00:00</th>\n",
       "      <td>200.49</td>\n",
       "    </tr>\n",
       "    <tr>\n",
       "      <th>2024-12-04 08:00:00</th>\n",
       "      <td>205.10</td>\n",
       "    </tr>\n",
       "    <tr>\n",
       "      <th>2024-12-04 09:00:00</th>\n",
       "      <td>149.94</td>\n",
       "    </tr>\n",
       "    <tr>\n",
       "      <th>2024-12-04 10:00:00</th>\n",
       "      <td>148.85</td>\n",
       "    </tr>\n",
       "    <tr>\n",
       "      <th>2024-12-04 11:00:00</th>\n",
       "      <td>153.78</td>\n",
       "    </tr>\n",
       "    <tr>\n",
       "      <th>2024-12-04 12:00:00</th>\n",
       "      <td>137.70</td>\n",
       "    </tr>\n",
       "    <tr>\n",
       "      <th>2024-12-04 13:00:00</th>\n",
       "      <td>137.81</td>\n",
       "    </tr>\n",
       "    <tr>\n",
       "      <th>2024-12-04 14:00:00</th>\n",
       "      <td>138.01</td>\n",
       "    </tr>\n",
       "    <tr>\n",
       "      <th>2024-12-04 15:00:00</th>\n",
       "      <td>155.20</td>\n",
       "    </tr>\n",
       "    <tr>\n",
       "      <th>2024-12-04 16:00:00</th>\n",
       "      <td>219.09</td>\n",
       "    </tr>\n",
       "    <tr>\n",
       "      <th>2024-12-04 17:00:00</th>\n",
       "      <td>190.17</td>\n",
       "    </tr>\n",
       "    <tr>\n",
       "      <th>2024-12-04 18:00:00</th>\n",
       "      <td>171.45</td>\n",
       "    </tr>\n",
       "    <tr>\n",
       "      <th>2024-12-04 19:00:00</th>\n",
       "      <td>141.78</td>\n",
       "    </tr>\n",
       "    <tr>\n",
       "      <th>2024-12-04 20:00:00</th>\n",
       "      <td>124.53</td>\n",
       "    </tr>\n",
       "    <tr>\n",
       "      <th>2024-12-04 21:00:00</th>\n",
       "      <td>123.42</td>\n",
       "    </tr>\n",
       "    <tr>\n",
       "      <th>2024-12-04 22:00:00</th>\n",
       "      <td>112.74</td>\n",
       "    </tr>\n",
       "  </tbody>\n",
       "</table>\n",
       "</div>"
      ],
      "text/plain": [
       "                      price\n",
       "2024-12-03 23:00:00  121.12\n",
       "2024-12-04 00:00:00  116.66\n",
       "2024-12-04 01:00:00  112.79\n",
       "2024-12-04 02:00:00  108.90\n",
       "2024-12-04 03:00:00  106.98\n",
       "2024-12-04 04:00:00  110.72\n",
       "2024-12-04 05:00:00  132.55\n",
       "2024-12-04 06:00:00  149.23\n",
       "2024-12-04 07:00:00  200.49\n",
       "2024-12-04 08:00:00  205.10\n",
       "2024-12-04 09:00:00  149.94\n",
       "2024-12-04 10:00:00  148.85\n",
       "2024-12-04 11:00:00  153.78\n",
       "2024-12-04 12:00:00  137.70\n",
       "2024-12-04 13:00:00  137.81\n",
       "2024-12-04 14:00:00  138.01\n",
       "2024-12-04 15:00:00  155.20\n",
       "2024-12-04 16:00:00  219.09\n",
       "2024-12-04 17:00:00  190.17\n",
       "2024-12-04 18:00:00  171.45\n",
       "2024-12-04 19:00:00  141.78\n",
       "2024-12-04 20:00:00  124.53\n",
       "2024-12-04 21:00:00  123.42\n",
       "2024-12-04 22:00:00  112.74"
      ]
     },
     "execution_count": 62,
     "metadata": {},
     "output_type": "execute_result"
    }
   ],
   "source": [
    "df"
   ]
  },
  {
   "cell_type": "code",
   "execution_count": null,
   "metadata": {},
   "outputs": [],
   "source": []
  }
 ],
 "metadata": {
  "kernelspec": {
   "display_name": "venv_pipeline",
   "language": "python",
   "name": "python3"
  },
  "language_info": {
   "codemirror_mode": {
    "name": "ipython",
    "version": 3
   },
   "file_extension": ".py",
   "mimetype": "text/x-python",
   "name": "python",
   "nbconvert_exporter": "python",
   "pygments_lexer": "ipython3",
   "version": "3.13.0"
  }
 },
 "nbformat": 4,
 "nbformat_minor": 2
}
