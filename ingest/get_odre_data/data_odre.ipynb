{
 "cells": [
  {
   "cell_type": "code",
   "execution_count": 1,
   "metadata": {},
   "outputs": [],
   "source": [
    "import requests\n",
    "import json\n",
    "import os\n",
    "import datetime as dt\n",
    "from utils import DayCET\n",
    "from tqdm.notebook import tqdm\n",
    "import pandas as pd"
   ]
  },
  {
   "cell_type": "code",
   "execution_count": 2,
   "metadata": {},
   "outputs": [],
   "source": [
    "ROOT_PATH = r'C:\\Users\\Raphaël Thireau\\OneDrive - versoenergy\\Documents\\datapipeline'"
   ]
  },
  {
   "cell_type": "markdown",
   "metadata": {},
   "source": [
    "## Capacities"
   ]
  },
  {
   "cell_type": "code",
   "execution_count": 11,
   "metadata": {},
   "outputs": [],
   "source": [
    "def get_capa_odre(year):\n",
    "    url = f\"https://odre.opendatasoft.com/api/explore/v2.1/catalog/datasets/parc-prod-par-filiere/records?where=annee=date'{year}'\"\n",
    "    response = requests.get(url)\n",
    "    if response.status_code == 200:\n",
    "        with open(os.path.join(ROOT_PATH, 'process', 'data', 'ODRE', 'Capacities', 'FR', f'{year}_ODRE_Capa_FR.json'), 'w') as file:\n",
    "            json.dump(response.json(), file, indent=4)\n",
    "        return response\n",
    "    else:\n",
    "        raise Exception(f\"Error: {response.status_code}, {response.text}\")"
   ]
  },
  {
   "cell_type": "code",
   "execution_count": 12,
   "metadata": {},
   "outputs": [],
   "source": [
    "for year in range(2015, 2025):\n",
    "    get_capa_odre(year)"
   ]
  },
  {
   "cell_type": "markdown",
   "metadata": {},
   "source": [
    "## éCO2mix - Temps réel"
   ]
  },
  {
   "cell_type": "code",
   "execution_count": 3,
   "metadata": {},
   "outputs": [],
   "source": [
    "def get_eco2mix_tr(day : DayCET):\n",
    "    start = day.start_utc.tz_localize('UTC').isoformat().replace('+', '%2B').replace(':', '%3A')\n",
    "    end = day.end_utc.tz_localize('UTC').isoformat().replace('+', '%2B').replace(':', '%3A')\n",
    "    url = f\"https://odre.opendatasoft.com/api/explore/v2.1/catalog/datasets/eco2mix-national-tr/records?where=date_heure%3E%3Ddate%27{start}%27%20and%20date_heure%3Cdate%27{end}%27&order_by=date_heure&limit=100\"\n",
    "    response = requests.get(url)\n",
    "    if response.status_code == 200:\n",
    "        with open(os.path.join(ROOT_PATH, 'process', 'data', 'ODRE', 'Eco2mix', 'FR', f'{day.date_str.replace('-', '')}_ODRE_Eco2mix-tr_FR.json'), 'w') as file:\n",
    "            json.dump(response.json(), file, indent=4)\n",
    "    else:\n",
    "        raise Exception(f\"Error: {response.status_code}, {response.text}\")"
   ]
  },
  {
   "cell_type": "code",
   "execution_count": 4,
   "metadata": {},
   "outputs": [
    {
     "data": {
      "application/vnd.jupyter.widget-view+json": {
       "model_id": "4d71e70c6c174a30bca6ac20a0cbbca3",
       "version_major": 2,
       "version_minor": 0
      },
      "text/plain": [
       "  0%|          | 0/20 [00:00<?, ?it/s]"
      ]
     },
     "metadata": {},
     "output_type": "display_data"
    }
   ],
   "source": [
    "for date in tqdm(pd.date_range(start='2025-03-15', end='2025-04-03', freq='D', inclusive='both')):\n",
    "    get_eco2mix_tr(day=DayCET(date.strftime(format='%Y-%m-%d')))"
   ]
  },
  {
   "cell_type": "markdown",
   "metadata": {},
   "source": [
    "## éCO2mix - Consolidées"
   ]
  },
  {
   "cell_type": "code",
   "execution_count": 11,
   "metadata": {},
   "outputs": [],
   "source": [
    "def get_eco2mix_cons(day : DayCET):\n",
    "    start = day.start_utc.tz_localize('UTC').isoformat().replace('+', '%2B').replace(':', '%3A')\n",
    "    end = day.end_utc.tz_localize('UTC').isoformat().replace('+', '%2B').replace(':', '%3A')\n",
    "    url = f\"https://odre.opendatasoft.com/api/explore/v2.1/catalog/datasets/eco2mix-national-cons-def/records?where=nature%3D%27Donn%C3%A9es%20consolid%C3%A9es%27%20and%20date_heure%3E%3Ddate%27{start}%27%20and%20date_heure%3Cdate%27{end}%27&order_by=date_heure&limit=100\"\n",
    "    response = requests.get(url)\n",
    "    if response.status_code == 200:\n",
    "        with open(os.path.join(ROOT_PATH, 'process', 'data', 'ODRE', 'Eco2mix', 'FR', f'{day.date_str.replace('-', '')}_ODRE_Eco2mix-cons_FR.json'), 'w') as file:\n",
    "            json.dump(response.json(), file, indent=4)\n",
    "    else:\n",
    "        raise Exception(f\"Error: {response.status_code}, {response.text}\")"
   ]
  },
  {
   "cell_type": "code",
   "execution_count": 12,
   "metadata": {},
   "outputs": [
    {
     "data": {
      "application/vnd.jupyter.widget-view+json": {
       "model_id": "362fae7f3770497e81226e559f680a2a",
       "version_major": 2,
       "version_minor": 0
      },
      "text/plain": [
       "  0%|          | 0/31 [00:00<?, ?it/s]"
      ]
     },
     "metadata": {},
     "output_type": "display_data"
    }
   ],
   "source": [
    "for date in tqdm(pd.date_range(start='2023-01-01', end='2023-01-31', freq='D', inclusive='both')):\n",
    "    get_eco2mix_cons(day=DayCET(date.strftime(format='%Y-%m-%d')))"
   ]
  },
  {
   "cell_type": "markdown",
   "metadata": {},
   "source": [
    "## éCO2mix - Définitives"
   ]
  },
  {
   "cell_type": "code",
   "execution_count": 14,
   "metadata": {},
   "outputs": [],
   "source": [
    "def get_eco2mix_def(day : DayCET):\n",
    "    start = day.start_utc.tz_localize('UTC').isoformat().replace('+', '%2B').replace(':', '%3A')\n",
    "    end = day.end_utc.tz_localize('UTC').isoformat().replace('+', '%2B').replace(':', '%3A')\n",
    "    url = f\"https://odre.opendatasoft.com/api/explore/v2.1/catalog/datasets/eco2mix-national-cons-def/records?where=nature%3D%27Donn%C3%A9es%20d%C3%A9finitives%27%20and%20date_heure%3E%3Ddate%27{start}%27%20and%20date_heure%3Cdate%27{end}%27&order_by=date_heure&limit=100\"\n",
    "    response = requests.get(url)\n",
    "    if response.status_code == 200:\n",
    "        with open(os.path.join(ROOT_PATH, 'process', 'data', 'ODRE', 'Eco2mix', 'FR', f'{day.date_str.replace('-', '')}_ODRE_Eco2mix-def_FR.json'), 'w') as file:\n",
    "            json.dump(response.json(), file, indent=4)\n",
    "    else:\n",
    "        raise Exception(f\"Error: {response.status_code}, {response.text}\")"
   ]
  },
  {
   "cell_type": "code",
   "execution_count": 18,
   "metadata": {},
   "outputs": [
    {
     "data": {
      "application/vnd.jupyter.widget-view+json": {
       "model_id": "a3a1a9bd93d94b91aaa3d62e2730eae6",
       "version_major": 2,
       "version_minor": 0
      },
      "text/plain": [
       "  0%|          | 0/1096 [00:00<?, ?it/s]"
      ]
     },
     "metadata": {},
     "output_type": "display_data"
    }
   ],
   "source": [
    "for date in tqdm(pd.date_range(start='2015-01-01', end='2017-12-31', freq='D', inclusive='both')):\n",
    "    get_eco2mix_def(day=DayCET(date.strftime(format='%Y-%m-%d')))"
   ]
  }
 ],
 "metadata": {
  "kernelspec": {
   "display_name": "venv_pipeline",
   "language": "python",
   "name": "python3"
  },
  "language_info": {
   "codemirror_mode": {
    "name": "ipython",
    "version": 3
   },
   "file_extension": ".py",
   "mimetype": "text/x-python",
   "name": "python",
   "nbconvert_exporter": "python",
   "pygments_lexer": "ipython3",
   "version": "3.13.0"
  }
 },
 "nbformat": 4,
 "nbformat_minor": 2
}
