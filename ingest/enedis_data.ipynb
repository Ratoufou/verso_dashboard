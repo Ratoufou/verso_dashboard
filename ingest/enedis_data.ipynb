{
 "cells": [
  {
   "cell_type": "code",
   "execution_count": 32,
   "metadata": {},
   "outputs": [],
   "source": [
    "import requests\n",
    "import json\n",
    "import os\n",
    "import pandas as pd\n",
    "from tqdm import tqdm\n",
    "from io import StringIO"
   ]
  },
  {
   "cell_type": "code",
   "execution_count": 4,
   "metadata": {},
   "outputs": [],
   "source": [
    "ROOT_PATH = r'C:\\Users\\Raphaël Thireau\\OneDrive - versoenergy\\Documents\\datapipeline'"
   ]
  },
  {
   "cell_type": "code",
   "execution_count": 3,
   "metadata": {},
   "outputs": [],
   "source": [
    "def get_enedis_temp(date):\n",
    "    url = (\"https://data.enedis.fr/api/explore/v2.1/catalog/datasets/\"\n",
    "        \"donnees-de-temperature-et-de-pseudo-rayonnement/records?\"\n",
    "        \"select=horodate%2Ctemperature_realisee_lissee_degc%2Ctemperature_normale_lissee_degc&\"\n",
    "        f\"where=annee_mois_jour%3D%27{date}%27&\"\n",
    "        \"order_by=horodate&\"\n",
    "        \"limit=100\")\n",
    "    response = requests.get(url)\n",
    "    if response.status_code == 200:\n",
    "        with open(os.path.join(ROOT_PATH, 'process', 'data', 'ENEDIS', 'Temperature', 'FR', f'{date.replace('-', '')}_ENEDIS_Temp_FR.json'), 'w') as file:\n",
    "            json.dump(response.json(), file, indent=4)\n",
    "    else:\n",
    "        raise Exception(f\"Error: {response.status_code}, {response.text}\")"
   ]
  },
  {
   "cell_type": "code",
   "execution_count": 44,
   "metadata": {},
   "outputs": [
    {
     "name": "stderr",
     "output_type": "stream",
     "text": [
      "100%|██████████| 1826/1826 [04:04<00:00,  7.47it/s]\n"
     ]
    }
   ],
   "source": [
    "for date in tqdm(pd.date_range(start='2020-01-09', end='2025-01-07', freq='D', inclusive='both')):\n",
    "    get_enedis_temp(date.strftime('%Y-%m-%d'))"
   ]
  }
 ],
 "metadata": {
  "kernelspec": {
   "display_name": "venv_pipeline",
   "language": "python",
   "name": "python3"
  },
  "language_info": {
   "codemirror_mode": {
    "name": "ipython",
    "version": 3
   },
   "file_extension": ".py",
   "mimetype": "text/x-python",
   "name": "python",
   "nbconvert_exporter": "python",
   "pygments_lexer": "ipython3",
   "version": "3.13.0"
  }
 },
 "nbformat": 4,
 "nbformat_minor": 2
}
