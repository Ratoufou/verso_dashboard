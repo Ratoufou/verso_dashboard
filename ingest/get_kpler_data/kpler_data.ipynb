{
 "cells": [
  {
   "cell_type": "code",
   "execution_count": 7,
   "metadata": {},
   "outputs": [],
   "source": [
    "from ftplib import FTP\n",
    "import datetime as dt\n",
    "from tqdm import tqdm\n",
    "import pandas as pd"
   ]
  },
  {
   "cell_type": "code",
   "execution_count": 8,
   "metadata": {},
   "outputs": [],
   "source": [
    "ROOT_PATH = r'C:\\Users\\Raphaël Thireau\\OneDrive - versoenergy\\Documents\\datapipeline'\n",
    "FTP_CONF = {\n",
    "    'host' : 'calc1.cor-e.fr',\n",
    "    'port' : 21,\n",
    "    'user' : 'verso_energy',\n",
    "    'passwd' : '@VeRsoEnerGy2023!'\n",
    "}"
   ]
  },
  {
   "cell_type": "code",
   "execution_count": 9,
   "metadata": {},
   "outputs": [],
   "source": [
    "def kpler_ftp():\n",
    "    ftp = FTP()\n",
    "    ftp.connect(host=FTP_CONF['host'], port=FTP_CONF['port'])\n",
    "    ftp.login(user=FTP_CONF['user'], passwd=FTP_CONF['passwd'])\n",
    "    return ftp"
   ]
  },
  {
   "cell_type": "code",
   "execution_count": 10,
   "metadata": {},
   "outputs": [],
   "source": [
    "def get_electricity_futures(date : dt.date, country):\n",
    "    ftp = kpler_ftp()\n",
    "    date_str = date.strftime(format='%Y-%m-%d')\n",
    "    year, month, date = date_str.split('-')\n",
    "    for e in ['Base', 'Peak']:\n",
    "        with open(f'{ROOT_PATH}/process/data/KPLER/Futures/Elec/EEX/{country}/{date_str.replace('-', '')}_Futures_Elec_EEX_{country}_{e}.csv', 'wb') as local_file:\n",
    "            try:\n",
    "                ftp.retrbinary(f'RETR 2_Price/Actual/Futures/Electricity/EEX/{country}/{year}/{month}/CORE_PRICE_ACTUAL_Futures_Electricity_EEX_{country}_{e}_Daily_{date_str.replace('-', '')}.csv', \n",
    "                            local_file.write)\n",
    "            except:\n",
    "                with open(f'{ROOT_PATH}/log.txt', 'a') as log_file:\n",
    "                    log_file.write(f'{date_str} - {e}\\n')"
   ]
  },
  {
   "cell_type": "code",
   "execution_count": 11,
   "metadata": {},
   "outputs": [],
   "source": [
    "def get_DA_gas_price(date : dt.date, country):\n",
    "    ftp = kpler_ftp()\n",
    "    date_str = date.strftime(format='%Y-%m-%d')\n",
    "    year, month, date = date_str.split('-')\n",
    "    with open(f'{ROOT_PATH}/process/data/KPLER/DayAhead/Gas/EEX/{country}/{date_str.replace('-', '')}_DayAhead_Gas_EEX_FR.csv', 'wb') as local_file:\n",
    "        try:\n",
    "            ftp.retrbinary(f'RETR 2_Price/Actual/Day_Ahead/EEX/Gas/{country}/{year}/{month}/CORE_PRICE_ACTUAL_DayAhead_Gas_Midday_EEX_{country}_{date_str.replace('-', '')}.csv', \n",
    "                            local_file.write)\n",
    "        except Exception as e:\n",
    "            with open(f'{ROOT_PATH}/log_gas.txt', 'a') as log_file:\n",
    "                log_file.write(f'{date_str} - {e}\\n')"
   ]
  },
  {
   "cell_type": "code",
   "execution_count": 12,
   "metadata": {},
   "outputs": [
    {
     "name": "stderr",
     "output_type": "stream",
     "text": [
      "  0%|          | 0/18 [00:00<?, ?it/s]\n"
     ]
    },
    {
     "ename": "error_perm",
     "evalue": "530 Login incorrect.",
     "output_type": "error",
     "traceback": [
      "\u001b[1;31m---------------------------------------------------------------------------\u001b[0m",
      "\u001b[1;31merror_perm\u001b[0m                                Traceback (most recent call last)",
      "Cell \u001b[1;32mIn[12], line 3\u001b[0m\n\u001b[0;32m      1\u001b[0m \u001b[38;5;28;01mfor\u001b[39;00m date \u001b[38;5;129;01min\u001b[39;00m tqdm(pd\u001b[38;5;241m.\u001b[39mdate_range(start\u001b[38;5;241m=\u001b[39m\u001b[38;5;124m'\u001b[39m\u001b[38;5;124m2025-01-09\u001b[39m\u001b[38;5;124m'\u001b[39m, end\u001b[38;5;241m=\u001b[39m\u001b[38;5;124m'\u001b[39m\u001b[38;5;124m2025-01-26\u001b[39m\u001b[38;5;124m'\u001b[39m, freq\u001b[38;5;241m=\u001b[39m\u001b[38;5;124m'\u001b[39m\u001b[38;5;124mD\u001b[39m\u001b[38;5;124m'\u001b[39m, inclusive\u001b[38;5;241m=\u001b[39m\u001b[38;5;124m'\u001b[39m\u001b[38;5;124mboth\u001b[39m\u001b[38;5;124m'\u001b[39m)\u001b[38;5;241m.\u001b[39mdate):\n\u001b[0;32m      2\u001b[0m     \u001b[38;5;28;01mif\u001b[39;00m \u001b[38;5;129;01mnot\u001b[39;00m((date\u001b[38;5;241m.\u001b[39misoweekday() \u001b[38;5;241m==\u001b[39m \u001b[38;5;241m6\u001b[39m) \u001b[38;5;129;01mor\u001b[39;00m (date\u001b[38;5;241m.\u001b[39misoweekday() \u001b[38;5;241m==\u001b[39m \u001b[38;5;241m7\u001b[39m)):\n\u001b[1;32m----> 3\u001b[0m         \u001b[43mget_electricity_futures\u001b[49m\u001b[43m(\u001b[49m\u001b[43mdate\u001b[49m\u001b[43m,\u001b[49m\u001b[43m \u001b[49m\u001b[38;5;124;43m'\u001b[39;49m\u001b[38;5;124;43mFR\u001b[39;49m\u001b[38;5;124;43m'\u001b[39;49m\u001b[43m)\u001b[49m\n\u001b[0;32m      4\u001b[0m     get_DA_gas_price(date, \u001b[38;5;124m'\u001b[39m\u001b[38;5;124mFR\u001b[39m\u001b[38;5;124m'\u001b[39m)\n",
      "Cell \u001b[1;32mIn[10], line 2\u001b[0m, in \u001b[0;36mget_electricity_futures\u001b[1;34m(date, country)\u001b[0m\n\u001b[0;32m      1\u001b[0m \u001b[38;5;28;01mdef\u001b[39;00m \u001b[38;5;21mget_electricity_futures\u001b[39m(date : dt\u001b[38;5;241m.\u001b[39mdate, country):\n\u001b[1;32m----> 2\u001b[0m     ftp \u001b[38;5;241m=\u001b[39m \u001b[43mkpler_ftp\u001b[49m\u001b[43m(\u001b[49m\u001b[43m)\u001b[49m\n\u001b[0;32m      3\u001b[0m     date_str \u001b[38;5;241m=\u001b[39m date\u001b[38;5;241m.\u001b[39mstrftime(\u001b[38;5;28mformat\u001b[39m\u001b[38;5;241m=\u001b[39m\u001b[38;5;124m'\u001b[39m\u001b[38;5;124m%\u001b[39m\u001b[38;5;124mY-\u001b[39m\u001b[38;5;124m%\u001b[39m\u001b[38;5;124mm-\u001b[39m\u001b[38;5;132;01m%d\u001b[39;00m\u001b[38;5;124m'\u001b[39m)\n\u001b[0;32m      4\u001b[0m     year, month, date \u001b[38;5;241m=\u001b[39m date_str\u001b[38;5;241m.\u001b[39msplit(\u001b[38;5;124m'\u001b[39m\u001b[38;5;124m-\u001b[39m\u001b[38;5;124m'\u001b[39m)\n",
      "Cell \u001b[1;32mIn[9], line 4\u001b[0m, in \u001b[0;36mkpler_ftp\u001b[1;34m()\u001b[0m\n\u001b[0;32m      2\u001b[0m ftp \u001b[38;5;241m=\u001b[39m FTP()\n\u001b[0;32m      3\u001b[0m ftp\u001b[38;5;241m.\u001b[39mconnect(host\u001b[38;5;241m=\u001b[39mFTP_CONF[\u001b[38;5;124m'\u001b[39m\u001b[38;5;124mhost\u001b[39m\u001b[38;5;124m'\u001b[39m], port\u001b[38;5;241m=\u001b[39mFTP_CONF[\u001b[38;5;124m'\u001b[39m\u001b[38;5;124mport\u001b[39m\u001b[38;5;124m'\u001b[39m])\n\u001b[1;32m----> 4\u001b[0m \u001b[43mftp\u001b[49m\u001b[38;5;241;43m.\u001b[39;49m\u001b[43mlogin\u001b[49m\u001b[43m(\u001b[49m\u001b[43muser\u001b[49m\u001b[38;5;241;43m=\u001b[39;49m\u001b[43mFTP_CONF\u001b[49m\u001b[43m[\u001b[49m\u001b[38;5;124;43m'\u001b[39;49m\u001b[38;5;124;43muser\u001b[39;49m\u001b[38;5;124;43m'\u001b[39;49m\u001b[43m]\u001b[49m\u001b[43m,\u001b[49m\u001b[43m \u001b[49m\u001b[43mpasswd\u001b[49m\u001b[38;5;241;43m=\u001b[39;49m\u001b[43mFTP_CONF\u001b[49m\u001b[43m[\u001b[49m\u001b[38;5;124;43m'\u001b[39;49m\u001b[38;5;124;43mpasswd\u001b[39;49m\u001b[38;5;124;43m'\u001b[39;49m\u001b[43m]\u001b[49m\u001b[43m)\u001b[49m\n\u001b[0;32m      5\u001b[0m \u001b[38;5;28;01mreturn\u001b[39;00m ftp\n",
      "File \u001b[1;32m~\\AppData\\Local\\Programs\\Python\\Python313\\Lib\\ftplib.py:414\u001b[0m, in \u001b[0;36mFTP.login\u001b[1;34m(self, user, passwd, acct)\u001b[0m\n\u001b[0;32m    412\u001b[0m resp \u001b[38;5;241m=\u001b[39m \u001b[38;5;28mself\u001b[39m\u001b[38;5;241m.\u001b[39msendcmd(\u001b[38;5;124m'\u001b[39m\u001b[38;5;124mUSER \u001b[39m\u001b[38;5;124m'\u001b[39m \u001b[38;5;241m+\u001b[39m user)\n\u001b[0;32m    413\u001b[0m \u001b[38;5;28;01mif\u001b[39;00m resp[\u001b[38;5;241m0\u001b[39m] \u001b[38;5;241m==\u001b[39m \u001b[38;5;124m'\u001b[39m\u001b[38;5;124m3\u001b[39m\u001b[38;5;124m'\u001b[39m:\n\u001b[1;32m--> 414\u001b[0m     resp \u001b[38;5;241m=\u001b[39m \u001b[38;5;28;43mself\u001b[39;49m\u001b[38;5;241;43m.\u001b[39;49m\u001b[43msendcmd\u001b[49m\u001b[43m(\u001b[49m\u001b[38;5;124;43m'\u001b[39;49m\u001b[38;5;124;43mPASS \u001b[39;49m\u001b[38;5;124;43m'\u001b[39;49m\u001b[43m \u001b[49m\u001b[38;5;241;43m+\u001b[39;49m\u001b[43m \u001b[49m\u001b[43mpasswd\u001b[49m\u001b[43m)\u001b[49m\n\u001b[0;32m    415\u001b[0m \u001b[38;5;28;01mif\u001b[39;00m resp[\u001b[38;5;241m0\u001b[39m] \u001b[38;5;241m==\u001b[39m \u001b[38;5;124m'\u001b[39m\u001b[38;5;124m3\u001b[39m\u001b[38;5;124m'\u001b[39m:\n\u001b[0;32m    416\u001b[0m     resp \u001b[38;5;241m=\u001b[39m \u001b[38;5;28mself\u001b[39m\u001b[38;5;241m.\u001b[39msendcmd(\u001b[38;5;124m'\u001b[39m\u001b[38;5;124mACCT \u001b[39m\u001b[38;5;124m'\u001b[39m \u001b[38;5;241m+\u001b[39m acct)\n",
      "File \u001b[1;32m~\\AppData\\Local\\Programs\\Python\\Python313\\Lib\\ftplib.py:281\u001b[0m, in \u001b[0;36mFTP.sendcmd\u001b[1;34m(self, cmd)\u001b[0m\n\u001b[0;32m    279\u001b[0m \u001b[38;5;250m\u001b[39m\u001b[38;5;124;03m'''Send a command and return the response.'''\u001b[39;00m\n\u001b[0;32m    280\u001b[0m \u001b[38;5;28mself\u001b[39m\u001b[38;5;241m.\u001b[39mputcmd(cmd)\n\u001b[1;32m--> 281\u001b[0m \u001b[38;5;28;01mreturn\u001b[39;00m \u001b[38;5;28;43mself\u001b[39;49m\u001b[38;5;241;43m.\u001b[39;49m\u001b[43mgetresp\u001b[49m\u001b[43m(\u001b[49m\u001b[43m)\u001b[49m\n",
      "File \u001b[1;32m~\\AppData\\Local\\Programs\\Python\\Python313\\Lib\\ftplib.py:254\u001b[0m, in \u001b[0;36mFTP.getresp\u001b[1;34m(self)\u001b[0m\n\u001b[0;32m    252\u001b[0m     \u001b[38;5;28;01mraise\u001b[39;00m error_temp(resp)\n\u001b[0;32m    253\u001b[0m \u001b[38;5;28;01mif\u001b[39;00m c \u001b[38;5;241m==\u001b[39m \u001b[38;5;124m'\u001b[39m\u001b[38;5;124m5\u001b[39m\u001b[38;5;124m'\u001b[39m:\n\u001b[1;32m--> 254\u001b[0m     \u001b[38;5;28;01mraise\u001b[39;00m error_perm(resp)\n\u001b[0;32m    255\u001b[0m \u001b[38;5;28;01mraise\u001b[39;00m error_proto(resp)\n",
      "\u001b[1;31merror_perm\u001b[0m: 530 Login incorrect."
     ]
    }
   ],
   "source": [
    "for date in tqdm(pd.date_range(start='2025-01-09', end='2025-01-26', freq='D', inclusive='both').date):\n",
    "    if not((date.isoweekday() == 6) or (date.isoweekday() == 7)):\n",
    "        get_electricity_futures(date, 'FR')\n",
    "    get_DA_gas_price(date, 'FR')"
   ]
  },
  {
   "cell_type": "code",
   "execution_count": null,
   "metadata": {},
   "outputs": [],
   "source": []
  }
 ],
 "metadata": {
  "kernelspec": {
   "display_name": "venv_pipeline",
   "language": "python",
   "name": "python3"
  },
  "language_info": {
   "codemirror_mode": {
    "name": "ipython",
    "version": 3
   },
   "file_extension": ".py",
   "mimetype": "text/x-python",
   "name": "python",
   "nbconvert_exporter": "python",
   "pygments_lexer": "ipython3",
   "version": "3.13.0"
  }
 },
 "nbformat": 4,
 "nbformat_minor": 2
}
