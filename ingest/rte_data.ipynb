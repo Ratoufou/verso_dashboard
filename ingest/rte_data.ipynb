{
 "cells": [
  {
   "cell_type": "code",
   "execution_count": 1,
   "metadata": {},
   "outputs": [],
   "source": [
    "import requests\n",
    "from utils import DayCET\n",
    "import json\n",
    "import os\n",
    "import pandas as pd\n",
    "from tqdm import tqdm"
   ]
  },
  {
   "cell_type": "code",
   "execution_count": 2,
   "metadata": {},
   "outputs": [],
   "source": [
    "rte_id_64 = \"ODRlNjNhN2QtOTA4NC00YzZmLWFlMzQtNWYwOTg5YmRkNzI3OjVlNjg5NjE3LTg1MDItNDM2MC04YzE5LWFkNzlhYjk1OWY2Zg==\"\n",
    "ROOT_PATH = r'C:\\Users\\Raphaël Thireau\\OneDrive - versoenergy\\Documents\\datapipeline'"
   ]
  },
  {
   "cell_type": "code",
   "execution_count": 3,
   "metadata": {},
   "outputs": [],
   "source": [
    "def get_token_and_type(id = rte_id_64):\n",
    "    url = \"https://digital.iservices.rte-france.com/token/oauth/\"\n",
    "    headers = {\"Authorization\": f\"Basic {id}\"}\n",
    "    response = requests.post(url, headers=headers)\n",
    "    if response.status_code == 200:\n",
    "        resp_dict = response.json()\n",
    "        return resp_dict['access_token'], resp_dict['token_type']\n",
    "    else:\n",
    "        print(f\"Error: {response.status_code}, {response.text}\")"
   ]
  },
  {
   "cell_type": "code",
   "execution_count": 4,
   "metadata": {},
   "outputs": [],
   "source": [
    "def get_rte_conso(day : DayCET, RTE_token = None, id = rte_id_64):\n",
    "    if RTE_token is None:\n",
    "        token, token_type = get_token_and_type(id=id)\n",
    "    else:\n",
    "        token, token_type = RTE_token\n",
    "    start = day.start_utc.tz_localize('UTC').isoformat().replace('+', '%2B')\n",
    "    end = day.end_utc.tz_localize('UTC').isoformat().replace('+', '%2B')\n",
    "    url = f'https://digital.iservices.rte-france.com/open_api/consumption/v1/short_term?start_date={start}&end_date={end}'\n",
    "    headers = {\"Authorization\": f\"{token_type} {token}\"}\n",
    "    response = requests.get(url, headers=headers)\n",
    "    if response.status_code == 200:\n",
    "        with open(os.path.join(ROOT_PATH, 'process', 'data', 'RTE', 'Consumption', 'FR', f'{day.date_str.replace('-', '')}_RTE_Cons_FR.json'), 'w') as file:\n",
    "            json.dump(response.json(), file, indent=4)\n",
    "    else:\n",
    "        raise Exception(f\"Error: {response.status_code}, {response.text}\")"
   ]
  },
  {
   "cell_type": "code",
   "execution_count": 6,
   "metadata": {},
   "outputs": [],
   "source": [
    "def get_rte_prod(day : DayCET, RTE_token = None, id = rte_id_64):\n",
    "    if RTE_token is None:\n",
    "        token, token_type = get_token_and_type(id=id)\n",
    "    else:\n",
    "        token, token_type = RTE_token\n",
    "    start = day.start_utc.tz_localize('UTC').isoformat().replace('+', '%2B')\n",
    "    end = day.end_utc.tz_localize('UTC').isoformat().replace('+', '%2B')\n",
    "    url = f'https://digital.iservices.rte-france.com/open_api/actual_generation/v1/actual_generations_per_production_type?start_date={start}&end_date={end}'\n",
    "    headers = {\"Authorization\": f\"{token_type} {token}\"}\n",
    "    response = requests.get(url, headers=headers)\n",
    "    if response.status_code == 200:\n",
    "        with open(os.path.join(ROOT_PATH, 'process', 'data', 'RTE', 'Production', 'FR', f'{day.date_str.replace('-', '')}_RTE_Prod_FR.json'), 'w') as file:\n",
    "            json.dump(response.json(), file, indent=4)\n",
    "    else:\n",
    "        raise Exception(f\"Error: {response.status_code}, {response.text}\")"
   ]
  },
  {
   "cell_type": "code",
   "execution_count": 7,
   "metadata": {},
   "outputs": [
    {
     "name": "stderr",
     "output_type": "stream",
     "text": [
      "100%|██████████| 3640/3640 [13:01<00:00,  4.66it/s]\n"
     ]
    }
   ],
   "source": [
    "RTE_tocken = get_token_and_type()\n",
    "for date in tqdm(pd.date_range(start='2015-01-01', end='2024-12-18', freq='D', inclusive='both')):\n",
    "    get_rte_prod(day=DayCET(date.strftime(format='%Y-%m-%d')), RTE_token=RTE_tocken)"
   ]
  },
  {
   "cell_type": "code",
   "execution_count": null,
   "metadata": {},
   "outputs": [],
   "source": []
  }
 ],
 "metadata": {
  "kernelspec": {
   "display_name": "venv_pipeline",
   "language": "python",
   "name": "python3"
  },
  "language_info": {
   "codemirror_mode": {
    "name": "ipython",
    "version": 3
   },
   "file_extension": ".py",
   "mimetype": "text/x-python",
   "name": "python",
   "nbconvert_exporter": "python",
   "pygments_lexer": "ipython3",
   "version": "3.13.0"
  }
 },
 "nbformat": 4,
 "nbformat_minor": 2
}
