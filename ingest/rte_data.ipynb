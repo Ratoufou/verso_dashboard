{
 "cells": [
  {
   "cell_type": "code",
   "execution_count": 1,
   "metadata": {},
   "outputs": [],
   "source": [
    "import requests\n",
    "from utils import DayCET\n",
    "import json\n",
    "import os\n",
    "import pandas as pd\n",
    "from tqdm import tqdm\n",
    "import time"
   ]
  },
  {
   "cell_type": "markdown",
   "metadata": {},
   "source": [
    "## Token"
   ]
  },
  {
   "cell_type": "code",
   "execution_count": 2,
   "metadata": {},
   "outputs": [],
   "source": [
    "def get_token_and_type(id):\n",
    "    url = \"https://digital.iservices.rte-france.com/token/oauth/\"\n",
    "    headers = {\"Authorization\": f\"Basic {id}\"}\n",
    "    response = requests.post(url, headers=headers)\n",
    "    if response.status_code == 200:\n",
    "        resp_dict = response.json()\n",
    "        return resp_dict['access_token'], resp_dict['token_type']\n",
    "    else:\n",
    "        print(f\"Error: {response.status_code}, {response.text}\")"
   ]
  },
  {
   "cell_type": "markdown",
   "metadata": {},
   "source": [
    "## Consumption"
   ]
  },
  {
   "cell_type": "code",
   "execution_count": 3,
   "metadata": {},
   "outputs": [],
   "source": [
    "rte_id_64 = \"YWIwZDk0OWItOGM2NC00NTdiLWJlZTMtODU1NjRiMmEyZDc4OjY4ZWE4MTIyLTdmNjMtNDQzYi1iZDNiLTQ2YmVjOTFiZTEyMQ==\"\n",
    "ROOT_PATH = r'C:\\Users\\Raphaël Thireau\\OneDrive - versoenergy\\Documents\\datapipeline'"
   ]
  },
  {
   "cell_type": "code",
   "execution_count": 4,
   "metadata": {},
   "outputs": [],
   "source": [
    "def get_rte_conso(day : DayCET, RTE_token = None, id = rte_id_64):\n",
    "    if RTE_token is None:\n",
    "        token, token_type = get_token_and_type(id=id)\n",
    "    else:\n",
    "        token, token_type = RTE_token\n",
    "    start = day.start_utc.tz_localize('UTC').isoformat().replace('+', '%2B')\n",
    "    end = day.end_utc.tz_localize('UTC').isoformat().replace('+', '%2B')\n",
    "    url = f'https://digital.iservices.rte-france.com/open_api/consumption/v1/short_term?start_date={start}&end_date={end}'\n",
    "    headers = {\"Authorization\": f\"{token_type} {token}\"}\n",
    "    response = requests.get(url, headers=headers)\n",
    "    if response.status_code == 200:\n",
    "        with open(os.path.join(ROOT_PATH, 'process', 'data', 'RTE', 'Consumption', 'FR', f'{day.date_str.replace('-', '')}_RTE_Cons_FR.json'), 'w') as file:\n",
    "            json.dump(response.json(), file, indent=4)\n",
    "    else:\n",
    "        raise Exception(f\"Error: {response.status_code}, {response.text}\")"
   ]
  },
  {
   "cell_type": "code",
   "execution_count": 5,
   "metadata": {},
   "outputs": [
    {
     "name": "stderr",
     "output_type": "stream",
     "text": [
      "100%|██████████| 1/1 [00:03<00:00,  3.82s/it]\n"
     ]
    }
   ],
   "source": [
    "RTE_tocken = get_token_and_type(rte_id_64)\n",
    "for date in tqdm(pd.date_range(start='2024-04-13', end='2024-04-13', freq='D', inclusive='both')):\n",
    "    dict_conso = get_rte_conso(day=DayCET(date.strftime(format='%Y-%m-%d')), RTE_token=RTE_tocken)"
   ]
  },
  {
   "cell_type": "markdown",
   "metadata": {},
   "source": [
    "## Production"
   ]
  },
  {
   "cell_type": "code",
   "execution_count": 20,
   "metadata": {},
   "outputs": [],
   "source": [
    "rte_id_64 = \"YWIwZDk0OWItOGM2NC00NTdiLWJlZTMtODU1NjRiMmEyZDc4OjY4ZWE4MTIyLTdmNjMtNDQzYi1iZDNiLTQ2YmVjOTFiZTEyMQ==\"\n",
    "ROOT_PATH = r'C:\\Users\\Raphaël Thireau\\OneDrive - versoenergy\\Documents\\datapipeline'"
   ]
  },
  {
   "cell_type": "code",
   "execution_count": 21,
   "metadata": {},
   "outputs": [],
   "source": [
    "def get_rte_prod(day : DayCET, RTE_token = None, id = rte_id_64):\n",
    "    if RTE_token is None:\n",
    "        token, token_type = get_token_and_type(id=id)\n",
    "    else:\n",
    "        token, token_type = RTE_token\n",
    "    start = day.start_utc.tz_localize('UTC').isoformat().replace('+', '%2B')\n",
    "    end = day.end_utc.tz_localize('UTC').isoformat().replace('+', '%2B')\n",
    "    url = f'https://digital.iservices.rte-france.com/open_api/actual_generation/v1/actual_generations_per_production_type?start_date={start}&end_date={end}'\n",
    "    headers = {\"Authorization\": f\"{token_type} {token}\"}\n",
    "    response = requests.get(url, headers=headers)\n",
    "    if response.status_code == 200:\n",
    "        with open(os.path.join(ROOT_PATH, 'process', 'data', 'RTE', 'Production', 'FR', f'{day.date_str.replace('-', '')}_RTE_Prod_FR.json'), 'w') as file:\n",
    "            json.dump(response.json(), file, indent=4)\n",
    "    else:\n",
    "        raise Exception(f\"Error: {response.status_code}, {response.text}\")"
   ]
  },
  {
   "cell_type": "code",
   "execution_count": 23,
   "metadata": {},
   "outputs": [
    {
     "name": "stderr",
     "output_type": "stream",
     "text": [
      "  4%|▎         | 1/28 [00:00<00:05,  4.84it/s]"
     ]
    },
    {
     "name": "stderr",
     "output_type": "stream",
     "text": [
      "100%|██████████| 28/28 [00:04<00:00,  5.69it/s]\n"
     ]
    }
   ],
   "source": [
    "RTE_tocken = get_token_and_type(rte_id_64)\n",
    "for date in tqdm(pd.date_range(start='2025-02-03', end='2025-03-02', freq='D', inclusive='both')):\n",
    "    get_rte_prod(day=DayCET(date.strftime(format='%Y-%m-%d')), RTE_token=RTE_tocken)"
   ]
  },
  {
   "cell_type": "markdown",
   "metadata": {},
   "source": [
    "## Installed capacities"
   ]
  },
  {
   "cell_type": "code",
   "execution_count": 4,
   "metadata": {},
   "outputs": [],
   "source": [
    "rte_id_64 = \"OGM1NTdiNmItM2MwZS00NzFmLWIyNTItZTg1MjI3Y2NlZmE2Ojg2ODdiZWJhLThmMDctNGUyMi04MDU3LThlYjE4NmYyZjQ0NA==\"\n",
    "ROOT_PATH = r'C:\\Users\\Raphaël Thireau\\OneDrive - versoenergy\\Documents\\datapipeline'"
   ]
  },
  {
   "cell_type": "code",
   "execution_count": 28,
   "metadata": {},
   "outputs": [],
   "source": [
    "def get_rte_capa(year, RTE_token = None, id = rte_id_64):\n",
    "    if RTE_token is None:\n",
    "        token, token_type = get_token_and_type(id=id)\n",
    "    else:\n",
    "        token, token_type = RTE_token\n",
    "    start = pd.Timestamp(year=year, month=1, day=1, tz='CET').isoformat().replace('+', '%2B')\n",
    "    end = pd.Timestamp(year=year+1, month=1, day=1, tz='CET').isoformat().replace('+', '%2B')\n",
    "    \n",
    "    # url = f'https://digital.iservices.rte-france.com/open_api/generation_installed_capacities/v1/capacities_per_production_type?start_date={start}&end_date={end}'\n",
    "    url = f'https://digital.iservices.rte-france.com/open_api/generation_installed_capacities/v1/capacities_cpc?start_date={start}&end_date={end}&departement_code=FR'\n",
    "    headers = {\"Authorization\": f\"{token_type} {token}\"}\n",
    "    response = requests.get(url, headers=headers)\n",
    "    if response.status_code == 200:\n",
    "        # with open(os.path.join(ROOT_PATH, 'process', 'data', 'RTE', 'Capacities', 'FR', f'{year}_RTE_Capa_FR.json'), 'w') as file:\n",
    "        #     json.dump(response.json(), file, indent=4)\n",
    "        return response\n",
    "    else:\n",
    "        raise Exception(f\"Error: {response.status_code}, {response.text}\")"
   ]
  },
  {
   "cell_type": "code",
   "execution_count": 38,
   "metadata": {},
   "outputs": [],
   "source": [
    "RTE_tocken = get_token_and_type(rte_id_64)\n",
    "for year in range(2022, 2023):\n",
    "    rep = get_rte_capa(year=year, RTE_token=RTE_tocken)"
   ]
  },
  {
   "cell_type": "markdown",
   "metadata": {},
   "source": [
    "## Generation forecast"
   ]
  },
  {
   "cell_type": "code",
   "execution_count": 5,
   "metadata": {},
   "outputs": [],
   "source": [
    "rte_id_64 = \"YWIwZDk0OWItOGM2NC00NTdiLWJlZTMtODU1NjRiMmEyZDc4OjY4ZWE4MTIyLTdmNjMtNDQzYi1iZDNiLTQ2YmVjOTFiZTEyMQ==\"\n",
    "ROOT_PATH = r'C:\\Users\\Raphaël Thireau\\OneDrive - versoenergy\\Documents\\datapipeline'"
   ]
  },
  {
   "cell_type": "code",
   "execution_count": 6,
   "metadata": {},
   "outputs": [],
   "source": [
    "def get_rte_generation_forecast(day : DayCET, RTE_token = None, id = rte_id_64):\n",
    "    if RTE_token is None:\n",
    "        token, token_type = get_token_and_type(id=id)\n",
    "    else:\n",
    "        token, token_type = RTE_token\n",
    "    start = day.start_utc.tz_localize('UTC').isoformat().replace('+', '%2B')\n",
    "    end = day.end_utc.tz_localize('UTC').isoformat().replace('+', '%2B')\n",
    "    url = f'https://digital.iservices.rte-france.com/open_api/generation_forecast/v2/forecasts?start_date={start}&end_date={end}&type=D-1&production_type=WIND_ONSHORE,WIND_OFFSHORE,SOLAR'\n",
    "    headers = {\"Authorization\": f\"{token_type} {token}\"}\n",
    "    response = requests.get(url, headers=headers)\n",
    "    if response.status_code == 200:\n",
    "        with open(os.path.join(ROOT_PATH, 'process', 'data', 'RTE', 'GenerationForecast', 'FR', f'{day.date_str.replace('-', '')}_RTE_GenerationForecast_FR.json'), 'w') as file:\n",
    "            json.dump(response.json(), file, indent=4)\n",
    "    else:\n",
    "        raise Exception(f\"Error: {response.status_code}, {response.text}\")"
   ]
  },
  {
   "cell_type": "code",
   "execution_count": 37,
   "metadata": {},
   "outputs": [
    {
     "name": "stderr",
     "output_type": "stream",
     "text": [
      "100%|██████████| 3686/3686 [07:26<00:00,  8.25it/s]\n"
     ]
    }
   ],
   "source": [
    "RTE_tocken = get_token_and_type(rte_id_64)\n",
    "for date in tqdm(pd.date_range(start='2015-01-01', end='2025-02-02', freq='D', inclusive='both')):\n",
    "    get_rte_generation_forecast(day=DayCET(date.strftime(format='%Y-%m-%d')), RTE_token=RTE_tocken)"
   ]
  },
  {
   "cell_type": "markdown",
   "metadata": {},
   "source": [
    "## Imbalance"
   ]
  },
  {
   "cell_type": "code",
   "execution_count": 3,
   "metadata": {},
   "outputs": [],
   "source": [
    "rte_id_64 = \"YWIwZDk0OWItOGM2NC00NTdiLWJlZTMtODU1NjRiMmEyZDc4OjY4ZWE4MTIyLTdmNjMtNDQzYi1iZDNiLTQ2YmVjOTFiZTEyMQ==\"\n",
    "ROOT_PATH = r'C:\\Users\\Raphaël Thireau\\OneDrive - versoenergy\\Documents\\datapipeline'"
   ]
  },
  {
   "cell_type": "code",
   "execution_count": 4,
   "metadata": {},
   "outputs": [],
   "source": [
    "MAX_RETRIES = 5\n",
    "RETRY_DELAY = 5"
   ]
  },
  {
   "cell_type": "code",
   "execution_count": 6,
   "metadata": {},
   "outputs": [],
   "source": [
    "def get_rte_imbalance(day : DayCET, RTE_token = None, id = rte_id_64):\n",
    "    if RTE_token is None:\n",
    "        token, token_type = get_token_and_type(id=id)\n",
    "    else:\n",
    "        token, token_type = RTE_token\n",
    "    start = day.start_utc.tz_localize('UTC').isoformat().replace('+', '%2B')\n",
    "    end = day.end_utc.tz_localize('UTC').isoformat().replace('+', '%2B')\n",
    "    url = f'https://digital.iservices.rte-france.com/open_api/balancing_energy/v3/imbalance_data?start_date={start}&end_date={end}'\n",
    "    headers = {\"Authorization\": f\"{token_type} {token}\"}\n",
    "\n",
    "    for attempt in range(MAX_RETRIES):\n",
    "\n",
    "        response = requests.get(url, headers=headers)\n",
    "        if response.status_code == 200:\n",
    "            with open(os.path.join(ROOT_PATH, 'process', 'data', 'RTE', 'Imbalance', 'FR', f'{day.date_str.replace('-', '')}_RTE_Imbalance_FR.json'), 'w') as file:\n",
    "                json.dump(response.json(), file, indent=4)\n",
    "            return  \n",
    "        elif response.status_code == 500:\n",
    "            time.sleep(RETRY_DELAY)\n",
    "        else:\n",
    "            raise Exception(f\"Error: {response.status_code}, {response.text}\")\n",
    "    raise Exception()"
   ]
  },
  {
   "cell_type": "code",
   "execution_count": 7,
   "metadata": {},
   "outputs": [
    {
     "name": "stderr",
     "output_type": "stream",
     "text": [
      "100%|██████████| 21/21 [00:05<00:00,  3.74it/s]\n"
     ]
    }
   ],
   "source": [
    "for date in tqdm(pd.date_range(start='2025-02-10', end='2025-03-02', freq='D', inclusive='both')):\n",
    "    RTE_tocken = get_token_and_type(rte_id_64)\n",
    "    get_rte_imbalance(day=DayCET(date.strftime(format='%Y-%m-%d')), RTE_token=RTE_tocken)"
   ]
  },
  {
   "cell_type": "markdown",
   "metadata": {},
   "source": [
    "## Balancing Capacity Market"
   ]
  },
  {
   "cell_type": "code",
   "execution_count": 4,
   "metadata": {},
   "outputs": [],
   "source": [
    "rte_id_64 = \"OGM1NTdiNmItM2MwZS00NzFmLWIyNTItZTg1MjI3Y2NlZmE2Ojg2ODdiZWJhLThmMDctNGUyMi04MDU3LThlYjE4NmYyZjQ0NA==\"\n",
    "ROOT_PATH = r'C:\\Users\\Raphaël Thireau\\OneDrive - versoenergy\\Documents\\datapipeline'"
   ]
  },
  {
   "cell_type": "code",
   "execution_count": 5,
   "metadata": {},
   "outputs": [],
   "source": [
    "def get_rte_balancing_capa(day : DayCET, RTE_token = None, id = rte_id_64):\n",
    "    if RTE_token is None:\n",
    "        token, token_type = get_token_and_type(id=id)\n",
    "    else:\n",
    "        token, token_type = RTE_token\n",
    "    start = day.start_utc.tz_localize('UTC').isoformat().replace('+', '%2B')\n",
    "    end = day.end_utc.tz_localize('UTC').isoformat().replace('+', '%2B')\n",
    "    url = f'https://digital.iservices.rte-france.com/open_api/balancing_capacity/v4/procured_reserves?start_date={start}&end_date={end}'\n",
    "    headers = {\"Authorization\": f\"{token_type} {token}\"}\n",
    "    response = requests.get(url, headers=headers)\n",
    "    if response.status_code == 200:\n",
    "        with open(os.path.join(ROOT_PATH, 'process', 'data', 'RTE', 'BalancingCapacity', 'FR', f'{day.date_str.replace('-', '')}_RTE_BalancingCapacity_FR.json'), 'w') as file:\n",
    "            json.dump(response.json(), file, indent=4)\n",
    "    else:\n",
    "        raise Exception(f\"Error: {response.status_code}, {response.text}\")"
   ]
  },
  {
   "cell_type": "code",
   "execution_count": 11,
   "metadata": {},
   "outputs": [
    {
     "name": "stderr",
     "output_type": "stream",
     "text": [
      "100%|██████████| 28/28 [00:14<00:00,  1.90it/s]\n"
     ]
    }
   ],
   "source": [
    "for date in tqdm(pd.date_range(start='2025-02-03', end='2025-03-02', freq='D', inclusive='both')):\n",
    "    RTE_tocken = get_token_and_type(rte_id_64)\n",
    "    get_rte_balancing_capa(day=DayCET(date.strftime(format='%Y-%m-%d')), RTE_token=RTE_tocken)"
   ]
  }
 ],
 "metadata": {
  "kernelspec": {
   "display_name": "venv_pipeline",
   "language": "python",
   "name": "python3"
  },
  "language_info": {
   "codemirror_mode": {
    "name": "ipython",
    "version": 3
   },
   "file_extension": ".py",
   "mimetype": "text/x-python",
   "name": "python",
   "nbconvert_exporter": "python",
   "pygments_lexer": "ipython3",
   "version": "3.13.0"
  }
 },
 "nbformat": 4,
 "nbformat_minor": 2
}
