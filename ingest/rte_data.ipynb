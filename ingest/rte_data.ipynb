{
 "cells": [
  {
   "cell_type": "code",
   "execution_count": 4,
   "metadata": {},
   "outputs": [],
   "source": [
    "import requests\n",
    "from utils import DayCET\n",
    "import json\n",
    "import os\n",
    "import pandas as pd\n",
    "from tqdm import tqdm"
   ]
  },
  {
   "cell_type": "code",
   "execution_count": 5,
   "metadata": {},
   "outputs": [],
   "source": [
    "rte_id_64 = \"ODRlNjNhN2QtOTA4NC00YzZmLWFlMzQtNWYwOTg5YmRkNzI3OjVlNjg5NjE3LTg1MDItNDM2MC04YzE5LWFkNzlhYjk1OWY2Zg==\"\n",
    "ROOT_PATH = r'C:\\Users\\Raphaël Thireau\\OneDrive - versoenergy\\Documents\\datapipeline'"
   ]
  },
  {
   "cell_type": "code",
   "execution_count": 6,
   "metadata": {},
   "outputs": [],
   "source": [
    "def get_token_and_type(id = rte_id_64):\n",
    "    url = \"https://digital.iservices.rte-france.com/token/oauth/\"\n",
    "    headers = {\"Authorization\": f\"Basic {id}\"}\n",
    "    response = requests.post(url, headers=headers)\n",
    "    if response.status_code == 200:\n",
    "        resp_dict = response.json()\n",
    "        return resp_dict['access_token'], resp_dict['token_type']\n",
    "    else:\n",
    "        print(f\"Error: {response.status_code}, {response.text}\")"
   ]
  },
  {
   "cell_type": "code",
   "execution_count": 4,
   "metadata": {},
   "outputs": [],
   "source": [
    "def get_rte_conso(day : DayCET, RTE_token = None, id = rte_id_64):\n",
    "    if RTE_token is None:\n",
    "        token, token_type = get_token_and_type(id=id)\n",
    "    else:\n",
    "        token, token_type = RTE_token\n",
    "    start = day.start_utc.tz_localize('UTC').isoformat().replace('+', '%2B')\n",
    "    end = day.end_utc.tz_localize('UTC').isoformat().replace('+', '%2B')\n",
    "    url = f'https://digital.iservices.rte-france.com/open_api/consumption/v1/short_term?start_date={start}&end_date={end}'\n",
    "    headers = {\"Authorization\": f\"{token_type} {token}\"}\n",
    "    response = requests.get(url, headers=headers)\n",
    "    if response.status_code == 200:\n",
    "        with open(os.path.join(ROOT_PATH, 'process', 'data', 'RTE', 'Consumption', 'FR', f'{day.date_str.replace('-', '')}_RTE_Cons_FR.json'), 'w') as file:\n",
    "            json.dump(response.json(), file, indent=4)\n",
    "    else:\n",
    "        raise Exception(f\"Error: {response.status_code}, {response.text}\")"
   ]
  },
  {
   "cell_type": "code",
   "execution_count": 13,
   "metadata": {},
   "outputs": [],
   "source": [
    "def get_rte_conso(day : DayCET, RTE_token = None, id = rte_id_64):\n",
    "    if RTE_token is None:\n",
    "        token, token_type = get_token_and_type(id=id)\n",
    "    else:\n",
    "        token, token_type = RTE_token\n",
    "    start = day.start_utc.tz_localize('UTC').isoformat().replace('+', '%2B')\n",
    "    end = day.end_utc.tz_localize('UTC').isoformat().replace('+', '%2B')\n",
    "    url = f'https://digital.iservices.rte-france.com/open_api/consumption/v1/short_term?start_date={start}&end_date={end}'\n",
    "    print(url)\n",
    "    headers = {\"Authorization\": f\"{token_type} {token}\"}\n",
    "    response = requests.get(url, headers=headers)\n",
    "    if response.status_code == 200:\n",
    "        with open('test.json', 'w') as file:\n",
    "            json.dump(response.json(), file, indent=4)\n",
    "    else:\n",
    "        raise Exception(f\"Error: {response.status_code}, {response.text}\")"
   ]
  },
  {
   "cell_type": "code",
   "execution_count": 14,
   "metadata": {},
   "outputs": [
    {
     "name": "stdout",
     "output_type": "stream",
     "text": [
      "https://digital.iservices.rte-france.com/open_api/consumption/v1/short_term?start_date=2017-10-28T22:00:00%2B00:00&end_date=2017-10-29T22:00:00%2B00:00\n"
     ]
    },
    {
     "ename": "Exception",
     "evalue": "Error: 400, {\r\n\t\"error\":\"CONSUMPTION_SHORTTERM_F05\",\r\n\t\"error_description\":\"The period filled by fields \\\"start_date\\\" and \\\"end_date\\\" is too short to return values. Please check the user guide to verify the minimum period for this API.\",\r\n\t\"error_uri\": \"\",\r\n\t\"error_details\": {\r\n\t\t\"transaction_id\":\"Id-7e3e81671f5c7d652f09ceed\"\r\n\t}\r\n}",
     "output_type": "error",
     "traceback": [
      "\u001b[1;31m---------------------------------------------------------------------------\u001b[0m",
      "\u001b[1;31mException\u001b[0m                                 Traceback (most recent call last)",
      "Cell \u001b[1;32mIn[14], line 1\u001b[0m\n\u001b[1;32m----> 1\u001b[0m \u001b[43mget_rte_conso\u001b[49m\u001b[43m(\u001b[49m\u001b[43mday\u001b[49m\u001b[38;5;241;43m=\u001b[39;49m\u001b[43mDayCET\u001b[49m\u001b[43m(\u001b[49m\u001b[43mpd\u001b[49m\u001b[38;5;241;43m.\u001b[39;49m\u001b[43mTimestamp\u001b[49m\u001b[43m(\u001b[49m\u001b[38;5;124;43m'\u001b[39;49m\u001b[38;5;124;43m2017-10-29\u001b[39;49m\u001b[38;5;124;43m'\u001b[39;49m\u001b[43m)\u001b[49m\u001b[38;5;241;43m.\u001b[39;49m\u001b[43mstrftime\u001b[49m\u001b[43m(\u001b[49m\u001b[38;5;28;43mformat\u001b[39;49m\u001b[38;5;241;43m=\u001b[39;49m\u001b[38;5;124;43m'\u001b[39;49m\u001b[38;5;124;43m%\u001b[39;49m\u001b[38;5;124;43mY-\u001b[39;49m\u001b[38;5;124;43m%\u001b[39;49m\u001b[38;5;124;43mm-\u001b[39;49m\u001b[38;5;132;43;01m%d\u001b[39;49;00m\u001b[38;5;124;43m'\u001b[39;49m\u001b[43m)\u001b[49m\u001b[43m)\u001b[49m\u001b[43m)\u001b[49m\n",
      "Cell \u001b[1;32mIn[13], line 16\u001b[0m, in \u001b[0;36mget_rte_conso\u001b[1;34m(day, RTE_token, id)\u001b[0m\n\u001b[0;32m     14\u001b[0m         json\u001b[38;5;241m.\u001b[39mdump(response\u001b[38;5;241m.\u001b[39mjson(), file, indent\u001b[38;5;241m=\u001b[39m\u001b[38;5;241m4\u001b[39m)\n\u001b[0;32m     15\u001b[0m \u001b[38;5;28;01melse\u001b[39;00m:\n\u001b[1;32m---> 16\u001b[0m     \u001b[38;5;28;01mraise\u001b[39;00m \u001b[38;5;167;01mException\u001b[39;00m(\u001b[38;5;124mf\u001b[39m\u001b[38;5;124m\"\u001b[39m\u001b[38;5;124mError: \u001b[39m\u001b[38;5;132;01m{\u001b[39;00mresponse\u001b[38;5;241m.\u001b[39mstatus_code\u001b[38;5;132;01m}\u001b[39;00m\u001b[38;5;124m, \u001b[39m\u001b[38;5;132;01m{\u001b[39;00mresponse\u001b[38;5;241m.\u001b[39mtext\u001b[38;5;132;01m}\u001b[39;00m\u001b[38;5;124m\"\u001b[39m)\n",
      "\u001b[1;31mException\u001b[0m: Error: 400, {\r\n\t\"error\":\"CONSUMPTION_SHORTTERM_F05\",\r\n\t\"error_description\":\"The period filled by fields \\\"start_date\\\" and \\\"end_date\\\" is too short to return values. Please check the user guide to verify the minimum period for this API.\",\r\n\t\"error_uri\": \"\",\r\n\t\"error_details\": {\r\n\t\t\"transaction_id\":\"Id-7e3e81671f5c7d652f09ceed\"\r\n\t}\r\n}"
     ]
    }
   ],
   "source": [
    "get_rte_conso(day=DayCET(pd.Timestamp('2017-10-29').strftime(format='%Y-%m-%d')))"
   ]
  },
  {
   "cell_type": "code",
   "execution_count": null,
   "metadata": {},
   "outputs": [],
   "source": [
    "\"2017-10-29T01:45:00+02:00\",\n",
    "                    \"end_date\": \"2017-10-29T02:00:00+01:00\""
   ]
  },
  {
   "cell_type": "code",
   "execution_count": 11,
   "metadata": {},
   "outputs": [
    {
     "data": {
      "text/plain": [
       "Timestamp('2017-10-28 23:45:00+0000', tz='UTC')"
      ]
     },
     "execution_count": 11,
     "metadata": {},
     "output_type": "execute_result"
    }
   ],
   "source": [
    "pd.Timestamp(\"2017-10-29T01:45:00+02:00\").tz_convert('UTC')"
   ]
  },
  {
   "cell_type": "code",
   "execution_count": 12,
   "metadata": {},
   "outputs": [
    {
     "data": {
      "text/plain": [
       "Timestamp('2017-10-29 01:00:00+0000', tz='UTC')"
      ]
     },
     "execution_count": 12,
     "metadata": {},
     "output_type": "execute_result"
    }
   ],
   "source": [
    "pd.Timestamp(\"2017-10-29T02:00:00+01:00\").tz_convert('UTC')"
   ]
  },
  {
   "cell_type": "code",
   "execution_count": 5,
   "metadata": {},
   "outputs": [
    {
     "name": "stderr",
     "output_type": "stream",
     "text": [
      "100%|██████████| 21/21 [00:04<00:00,  4.36it/s]\n"
     ]
    }
   ],
   "source": [
    "RTE_tocken = get_token_and_type()\n",
    "for date in tqdm(pd.date_range(start='2024-12-19', end='2025-01-08', freq='D', inclusive='both')):\n",
    "    get_rte_conso(day=DayCET(date.strftime(format='%Y-%m-%d')), RTE_token=RTE_tocken)"
   ]
  },
  {
   "cell_type": "code",
   "execution_count": 7,
   "metadata": {},
   "outputs": [],
   "source": [
    "def get_rte_prod(day : DayCET, RTE_token = None, id = rte_id_64):\n",
    "    if RTE_token is None:\n",
    "        token, token_type = get_token_and_type(id=id)\n",
    "    else:\n",
    "        token, token_type = RTE_token\n",
    "    start = day.start_utc.tz_localize('UTC').isoformat().replace('+', '%2B')\n",
    "    end = day.end_utc.tz_localize('UTC').isoformat().replace('+', '%2B')\n",
    "    url = f'https://digital.iservices.rte-france.com/open_api/actual_generation/v1/actual_generations_per_production_type?start_date={start}&end_date={end}'\n",
    "    headers = {\"Authorization\": f\"{token_type} {token}\"}\n",
    "    response = requests.get(url, headers=headers)\n",
    "    if response.status_code == 200:\n",
    "        with open(os.path.join(ROOT_PATH, 'process', 'data', 'RTE', 'Production', 'FR', f'{day.date_str.replace('-', '')}_RTE_Prod_FR.json'), 'w') as file:\n",
    "            json.dump(response.json(), file, indent=4)\n",
    "    else:\n",
    "        raise Exception(f\"Error: {response.status_code}, {response.text}\")"
   ]
  },
  {
   "cell_type": "code",
   "execution_count": 8,
   "metadata": {},
   "outputs": [
    {
     "name": "stderr",
     "output_type": "stream",
     "text": [
      "100%|██████████| 21/21 [00:04<00:00,  4.39it/s]\n"
     ]
    }
   ],
   "source": [
    "RTE_tocken = get_token_and_type()\n",
    "for date in tqdm(pd.date_range(start='2024-12-19', end='2025-01-08', freq='D', inclusive='both')):\n",
    "    get_rte_prod(day=DayCET(date.strftime(format='%Y-%m-%d')), RTE_token=RTE_tocken)"
   ]
  },
  {
   "cell_type": "code",
   "execution_count": 50,
   "metadata": {},
   "outputs": [],
   "source": [
    "def get_rte_capa(year, RTE_token = None, id = rte_id_64):\n",
    "    if RTE_token is None:\n",
    "        token, token_type = get_token_and_type(id=id)\n",
    "    else:\n",
    "        token, token_type = RTE_token\n",
    "    start = pd.Timestamp(year=year, month=1, day=1, tz='CET').isoformat().replace('+', '%2B')\n",
    "    end = pd.Timestamp(year=year+1, month=1, day=1, tz='CET').isoformat().replace('+', '%2B')\n",
    "    \n",
    "    url = f'https://digital.iservices.rte-france.com/open_api/generation_installed_capacities/v1/capacities_per_production_type?start_date={start}&end_date={end}'\n",
    "    headers = {\"Authorization\": f\"{token_type} {token}\"}\n",
    "    response = requests.get(url, headers=headers)\n",
    "    if response.status_code == 200:\n",
    "        with open(os.path.join(ROOT_PATH, 'process', 'data', 'RTE', 'Capacities', 'FR', f'{year}_RTE_Capa_FR.json'), 'w') as file:\n",
    "            json.dump(response.json(), file, indent=4)\n",
    "    else:\n",
    "        raise Exception(f\"Error: {response.status_code}, {response.text}\")"
   ]
  },
  {
   "cell_type": "code",
   "execution_count": 53,
   "metadata": {},
   "outputs": [],
   "source": [
    "RTE_tocken = get_token_and_type()\n",
    "for year in range(2015, 2025):\n",
    "    get_rte_capa(year=year, RTE_token=RTE_tocken)"
   ]
  }
 ],
 "metadata": {
  "kernelspec": {
   "display_name": "venv_pipeline",
   "language": "python",
   "name": "python3"
  },
  "language_info": {
   "codemirror_mode": {
    "name": "ipython",
    "version": 3
   },
   "file_extension": ".py",
   "mimetype": "text/x-python",
   "name": "python",
   "nbconvert_exporter": "python",
   "pygments_lexer": "ipython3",
   "version": "3.13.0"
  }
 },
 "nbformat": 4,
 "nbformat_minor": 2
}
