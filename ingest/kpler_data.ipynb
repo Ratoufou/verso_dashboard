{
 "cells": [
  {
   "cell_type": "code",
   "execution_count": 1,
   "metadata": {},
   "outputs": [],
   "source": [
    "from ftplib import FTP\n",
    "import datetime as dt\n",
    "from tqdm import tqdm\n",
    "import pandas as pd"
   ]
  },
  {
   "cell_type": "code",
   "execution_count": 2,
   "metadata": {},
   "outputs": [],
   "source": [
    "ROOT_PATH = r'C:\\Users\\Raphaël Thireau\\OneDrive - versoenergy\\Documents\\datapipeline'\n",
    "FTP_CONF = {\n",
    "    'host' : 'calc1.cor-e.fr',\n",
    "    'port' : 21,\n",
    "    'user' : 'verso_energy',\n",
    "    'passwd' : '@VeRsoEnerGy2023!'\n",
    "}"
   ]
  },
  {
   "cell_type": "code",
   "execution_count": 3,
   "metadata": {},
   "outputs": [],
   "source": [
    "def kpler_ftp():\n",
    "    ftp = FTP()\n",
    "    ftp.connect(host=FTP_CONF['host'], port=FTP_CONF['port'])\n",
    "    ftp.login(user=FTP_CONF['user'], passwd=FTP_CONF['passwd'])\n",
    "    return ftp"
   ]
  },
  {
   "cell_type": "code",
   "execution_count": 4,
   "metadata": {},
   "outputs": [],
   "source": [
    "def get_electricity_futures(date : dt.date, country):\n",
    "    ftp = kpler_ftp()\n",
    "    date_str = date.strftime(format='%Y-%m-%d')\n",
    "    year, month, date = date_str.split('-')\n",
    "    for e in ['Base', 'Peak']:\n",
    "        with open(f'{ROOT_PATH}/process/data/KPLER/Futures/Elec/EEX/{country}/{date_str.replace('-', '')}_Futures_Elec_EEX_{country}_{e}.csv', 'wb') as local_file:\n",
    "            try:\n",
    "                ftp.retrbinary(f'RETR 2_Price/Actual/Futures/Electricity/EEX/{country}/{year}/{month}/CORE_PRICE_ACTUAL_Futures_Electricity_EEX_{country}_{e}_Daily_{date_str.replace('-', '')}.csv', \n",
    "                            local_file.write)\n",
    "            except:\n",
    "                with open(f'{ROOT_PATH}/log.txt', 'a') as log_file:\n",
    "                    log_file.write(f'{date_str} - {e}\\n')"
   ]
  },
  {
   "cell_type": "code",
   "execution_count": 5,
   "metadata": {},
   "outputs": [],
   "source": [
    "def get_DA_gas_price(date : dt.date, country):\n",
    "    ftp = kpler_ftp()\n",
    "    date_str = date.strftime(format='%Y-%m-%d')\n",
    "    year, month, date = date_str.split('-')\n",
    "    with open(f'{ROOT_PATH}/process/data/KPLER/DayAhead/Gas/EEX/{country}/{date_str.replace('-', '')}_DayAhead_Gas_EEX_FR.csv', 'wb') as local_file:\n",
    "        try:\n",
    "            ftp.retrbinary(f'RETR 2_Price/Actual/Day_Ahead/EEX/Gas/{country}/{year}/{month}/CORE_PRICE_ACTUAL_DayAhead_Gas_Midday_EEX_{country}_{date_str.replace('-', '')}.csv', \n",
    "                            local_file.write)\n",
    "        except Exception as e:\n",
    "            with open(f'{ROOT_PATH}/log_gas.txt', 'a') as log_file:\n",
    "                log_file.write(f'{date_str} - {e}\\n')"
   ]
  },
  {
   "cell_type": "code",
   "execution_count": 7,
   "metadata": {},
   "outputs": [
    {
     "name": "stderr",
     "output_type": "stream",
     "text": [
      "100%|██████████| 3/3 [00:01<00:00,  2.29it/s]\n"
     ]
    }
   ],
   "source": [
    "for date in tqdm(pd.date_range(start='2024-12-16', end='2024-12-18', freq='D', inclusive='both').date):\n",
    "    # if not((date.isoweekday() == 6) or (date.isoweekday() == 7)):\n",
    "    #     get_electricity_futures(date, 'FR')\n",
    "    get_DA_gas_price(date, 'FR')"
   ]
  },
  {
   "cell_type": "code",
   "execution_count": null,
   "metadata": {},
   "outputs": [],
   "source": []
  }
 ],
 "metadata": {
  "kernelspec": {
   "display_name": "venv_pipeline",
   "language": "python",
   "name": "python3"
  },
  "language_info": {
   "codemirror_mode": {
    "name": "ipython",
    "version": 3
   },
   "file_extension": ".py",
   "mimetype": "text/x-python",
   "name": "python",
   "nbconvert_exporter": "python",
   "pygments_lexer": "ipython3",
   "version": "3.13.0"
  }
 },
 "nbformat": 4,
 "nbformat_minor": 2
}
